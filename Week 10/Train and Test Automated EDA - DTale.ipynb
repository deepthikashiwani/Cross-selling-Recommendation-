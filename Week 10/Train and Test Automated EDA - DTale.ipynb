{
 "cells": [
  {
   "cell_type": "markdown",
   "id": "02263af7",
   "metadata": {},
   "source": [
    "Test and Train Cleaned dataset Automated EDA using DTale"
   ]
  },
  {
   "cell_type": "code",
   "execution_count": 1,
   "id": "20788d80",
   "metadata": {},
   "outputs": [
    {
     "name": "stdout",
     "output_type": "stream",
     "text": [
      "Requirement already satisfied: dtale in c:\\users\\deepthika\\anaconda3\\lib\\site-packages (1.54.1)\n",
      "Requirement already satisfied: flask-ngrok in c:\\users\\deepthika\\anaconda3\\lib\\site-packages (from dtale) (0.0.25)\n",
      "Requirement already satisfied: plotly>=5.0.0 in c:\\users\\deepthika\\anaconda3\\lib\\site-packages (from dtale) (5.2.1)\n",
      "Requirement already satisfied: statsmodels in c:\\users\\deepthika\\anaconda3\\lib\\site-packages (from dtale) (0.12.2)\n",
      "Requirement already satisfied: missingno<=0.4.2 in c:\\users\\deepthika\\anaconda3\\lib\\site-packages (from dtale) (0.4.2)\n",
      "Requirement already satisfied: lz4 in c:\\users\\deepthika\\anaconda3\\lib\\site-packages (from dtale) (3.1.3)\n",
      "Requirement already satisfied: xlrd in c:\\users\\deepthika\\anaconda3\\lib\\site-packages (from dtale) (2.0.1)\n",
      "Requirement already satisfied: Flask-Compress in c:\\users\\deepthika\\anaconda3\\lib\\site-packages (from dtale) (1.10.1)\n",
      "Requirement already satisfied: openpyxl in c:\\users\\deepthika\\anaconda3\\lib\\site-packages (from dtale) (3.0.7)\n",
      "Requirement already satisfied: xarray in c:\\users\\deepthika\\anaconda3\\lib\\site-packages (from dtale) (0.19.0)\n",
      "Requirement already satisfied: dash-bootstrap-components in c:\\users\\deepthika\\anaconda3\\lib\\site-packages (from dtale) (0.13.0)\n",
      "Requirement already satisfied: numpy in c:\\users\\deepthika\\anaconda3\\lib\\site-packages (from dtale) (1.20.1)\n",
      "Requirement already satisfied: dash-colorscales in c:\\users\\deepthika\\anaconda3\\lib\\site-packages (from dtale) (0.0.4)\n",
      "Requirement already satisfied: matplotlib in c:\\users\\deepthika\\anaconda3\\lib\\site-packages (from dtale) (3.3.4)\n",
      "Requirement already satisfied: six in c:\\users\\deepthika\\anaconda3\\lib\\site-packages (from dtale) (1.15.0)\n",
      "Requirement already satisfied: itsdangerous in c:\\users\\deepthika\\anaconda3\\lib\\site-packages (from dtale) (1.1.0)\n",
      "Requirement already satisfied: pandas in c:\\users\\deepthika\\anaconda3\\lib\\site-packages (from dtale) (1.2.4)\n",
      "Requirement already satisfied: kaleido in c:\\users\\deepthika\\anaconda3\\lib\\site-packages (from dtale) (0.2.1)\n",
      "Requirement already satisfied: seaborn in c:\\users\\deepthika\\anaconda3\\lib\\site-packages (from dtale) (0.11.1)\n",
      "Requirement already satisfied: networkx in c:\\users\\deepthika\\anaconda3\\lib\\site-packages (from dtale) (2.5)\n",
      "Requirement already satisfied: scikit-learn in c:\\users\\deepthika\\anaconda3\\lib\\site-packages (from dtale) (0.24.1)\n",
      "Requirement already satisfied: future>=0.14.0 in c:\\users\\deepthika\\anaconda3\\lib\\site-packages (from dtale) (0.18.2)\n",
      "Requirement already satisfied: strsimpy in c:\\users\\deepthika\\anaconda3\\lib\\site-packages (from dtale) (0.2.0)\n",
      "Requirement already satisfied: ppscore in c:\\users\\deepthika\\anaconda3\\lib\\site-packages (from dtale) (1.2.0)\n",
      "Requirement already satisfied: dash>=1.5.0 in c:\\users\\deepthika\\anaconda3\\lib\\site-packages (from dtale) (1.21.0)\n",
      "Requirement already satisfied: requests in c:\\users\\deepthika\\anaconda3\\lib\\site-packages (from dtale) (2.25.1)\n",
      "Requirement already satisfied: Flask in c:\\users\\deepthika\\anaconda3\\lib\\site-packages (from dtale) (1.1.2)\n",
      "Requirement already satisfied: scipy in c:\\users\\deepthika\\anaconda3\\lib\\site-packages (from dtale) (1.6.2)\n",
      "Requirement already satisfied: et-xmlfile in c:\\users\\deepthika\\anaconda3\\lib\\site-packages (from dtale) (1.0.1)\n",
      "Requirement already satisfied: dash-daq in c:\\users\\deepthika\\anaconda3\\lib\\site-packages (from dtale) (0.5.0)\n",
      "Requirement already satisfied: squarify in c:\\users\\deepthika\\anaconda3\\lib\\site-packages (from dtale) (0.4.3)\n",
      "Requirement already satisfied: dash-table==4.12.0 in c:\\users\\deepthika\\anaconda3\\lib\\site-packages (from dash>=1.5.0->dtale) (4.12.0)\n",
      "Requirement already satisfied: dash-html-components==1.1.4 in c:\\users\\deepthika\\anaconda3\\lib\\site-packages (from dash>=1.5.0->dtale) (1.1.4)\n",
      "Requirement already satisfied: dash-core-components==1.17.1 in c:\\users\\deepthika\\anaconda3\\lib\\site-packages (from dash>=1.5.0->dtale) (1.17.1)\n",
      "Requirement already satisfied: Jinja2>=2.10.1 in c:\\users\\deepthika\\anaconda3\\lib\\site-packages (from Flask->dtale) (2.11.3)\n",
      "Requirement already satisfied: Werkzeug>=0.15 in c:\\users\\deepthika\\anaconda3\\lib\\site-packages (from Flask->dtale) (1.0.1)\n",
      "Requirement already satisfied: click>=5.1 in c:\\users\\deepthika\\anaconda3\\lib\\site-packages (from Flask->dtale) (7.1.2)\n",
      "Requirement already satisfied: MarkupSafe>=0.23 in c:\\users\\deepthika\\anaconda3\\lib\\site-packages (from Jinja2>=2.10.1->Flask->dtale) (1.1.1)\n",
      "Requirement already satisfied: tenacity>=6.2.0 in c:\\users\\deepthika\\anaconda3\\lib\\site-packages (from plotly>=5.0.0->dtale) (8.0.1)\n",
      "Requirement already satisfied: brotli in c:\\users\\deepthika\\anaconda3\\lib\\site-packages (from Flask-Compress->dtale) (1.0.9)\n",
      "Requirement already satisfied: python-dateutil>=2.1 in c:\\users\\deepthika\\anaconda3\\lib\\site-packages (from matplotlib->dtale) (2.8.1)\n",
      "Requirement already satisfied: pillow>=6.2.0 in c:\\users\\deepthika\\anaconda3\\lib\\site-packages (from matplotlib->dtale) (8.2.0)\n",
      "Requirement already satisfied: cycler>=0.10 in c:\\users\\deepthika\\anaconda3\\lib\\site-packages (from matplotlib->dtale) (0.10.0)\n",
      "Requirement already satisfied: pyparsing!=2.0.4,!=2.1.2,!=2.1.6,>=2.0.3 in c:\\users\\deepthika\\anaconda3\\lib\\site-packages (from matplotlib->dtale) (2.4.7)\n",
      "Requirement already satisfied: kiwisolver>=1.0.1 in c:\\users\\deepthika\\anaconda3\\lib\\site-packages (from matplotlib->dtale) (1.3.1)\n",
      "Requirement already satisfied: decorator>=4.3.0 in c:\\users\\deepthika\\anaconda3\\lib\\site-packages (from networkx->dtale) (5.0.6)\n",
      "Requirement already satisfied: pytz>=2017.3 in c:\\users\\deepthika\\anaconda3\\lib\\site-packages (from pandas->dtale) (2021.1)\n",
      "Requirement already satisfied: threadpoolctl>=2.0.0 in c:\\users\\deepthika\\anaconda3\\lib\\site-packages (from scikit-learn->dtale) (2.1.0)\n",
      "Requirement already satisfied: joblib>=0.11 in c:\\users\\deepthika\\anaconda3\\lib\\site-packages (from scikit-learn->dtale) (1.0.1)\n",
      "Requirement already satisfied: chardet<5,>=3.0.2 in c:\\users\\deepthika\\anaconda3\\lib\\site-packages (from requests->dtale) (4.0.0)\n",
      "Requirement already satisfied: urllib3<1.27,>=1.21.1 in c:\\users\\deepthika\\anaconda3\\lib\\site-packages (from requests->dtale) (1.26.4)\n",
      "Requirement already satisfied: certifi>=2017.4.17 in c:\\users\\deepthika\\anaconda3\\lib\\site-packages (from requests->dtale) (2020.12.5)\n",
      "Requirement already satisfied: idna<3,>=2.5 in c:\\users\\deepthika\\anaconda3\\lib\\site-packages (from requests->dtale) (2.10)\n",
      "Requirement already satisfied: patsy>=0.5 in c:\\users\\deepthika\\anaconda3\\lib\\site-packages (from statsmodels->dtale) (0.5.1)\n",
      "Requirement already satisfied: setuptools>=40.4 in c:\\users\\deepthika\\anaconda3\\lib\\site-packages (from xarray->dtale) (52.0.0.post20210125)\n"
     ]
    }
   ],
   "source": [
    "!pip install dtale"
   ]
  },
  {
   "cell_type": "code",
   "execution_count": 2,
   "id": "7d23c060",
   "metadata": {},
   "outputs": [
    {
     "data": {
      "application/javascript": [
       "IPython.notebook.set_autosave_interval(30000)"
      ]
     },
     "metadata": {},
     "output_type": "display_data"
    },
    {
     "name": "stdout",
     "output_type": "stream",
     "text": [
      "Autosaving every 30 seconds\n"
     ]
    },
    {
     "data": {
      "text/plain": [
       "<bound method NDFrame.describe of         Unnamed: 0  fecha_dato  ncodpers ind_empleado pais_residencia sexo  \\\n",
       "0                0  2016-06-28     15889            F              ES    V   \n",
       "1                1  2016-06-28   1170544            N              ES    H   \n",
       "2                2  2016-06-28   1170545            N              ES    V   \n",
       "3                3  2016-06-28   1170547            N              ES    H   \n",
       "4                4  2016-06-28   1170548            N              ES    H   \n",
       "...            ...         ...       ...          ...             ...  ...   \n",
       "896092      929609  2016-06-28    660235            N              ES    H   \n",
       "896093      929610  2016-06-28    660237            N              ES    V   \n",
       "896094      929611  2016-06-28    660238            N              ES    V   \n",
       "896095      929612  2016-06-28    660240            N              ES    V   \n",
       "896096      929613  2016-06-28    660243            N              ES    V   \n",
       "\n",
       "        age           fecha_alta  ind_nuevo  antiguedad  ...  indrel_1mes  \\\n",
       "0        56  1995-01-16 00:00:00          0         256  ...          1.0   \n",
       "1        36  2013-08-28 00:00:00          0          34  ...          1.0   \n",
       "2        22  2013-08-28 00:00:00          0          34  ...          1.0   \n",
       "3        22  2013-08-28 00:00:00          0          34  ...          1.0   \n",
       "4        22  2013-08-28 00:00:00          0          34  ...          1.0   \n",
       "...     ...                  ...        ...         ...  ...          ...   \n",
       "896092   36  2007-01-04 00:00:00          0         113  ...          1.0   \n",
       "896093   55  1999-04-21 00:00:00          0         206  ...          1.0   \n",
       "896094   30  2006-11-29 00:00:00          0         115  ...          1.0   \n",
       "896095   52  2006-11-29 00:00:00          0         115  ...          1.0   \n",
       "896096   32  2006-11-29 00:00:00          0         115  ...          1.0   \n",
       "\n",
       "        tiprel_1mes indresi indext canal_entrada indfall         nomprov  \\\n",
       "0                 A       S      N           KAT       N          MADRID   \n",
       "1                 I       S      N           KAT       N        ALICANTE   \n",
       "2                 A       S      N           KHE       N       CORUÑA, A   \n",
       "3                 I       S      N           KHE       N       BARCELONA   \n",
       "4                 I       S      N           KHE       N  BALEARS, ILLES   \n",
       "...             ...     ...    ...           ...     ...             ...   \n",
       "896092            A       S      N           KAT       N       BARCELONA   \n",
       "896093            A       S      N           KAT       N          MADRID   \n",
       "896094            I       S      N           KFC       N       RIOJA, LA   \n",
       "896095            A       S      N           KBZ       N        ASTURIAS   \n",
       "896096            I       S      N           KFC       N        ASTURIAS   \n",
       "\n",
       "       ind_actividad_cliente          renta            segmento  \n",
       "0                          1  326124.900000            01 - TOP  \n",
       "1                          0  133097.286181   02 - PARTICULARES  \n",
       "2                          1  133097.286181  03 - UNIVERSITARIO  \n",
       "3                          0  148402.980000  03 - UNIVERSITARIO  \n",
       "4                          0  106885.800000  03 - UNIVERSITARIO  \n",
       "...                      ...            ...                 ...  \n",
       "896092                     0  100647.450000   02 - PARTICULARES  \n",
       "896093                     1  128643.570000            01 - TOP  \n",
       "896094                     0  133097.286181   02 - PARTICULARES  \n",
       "896095                     1   72765.270000   02 - PARTICULARES  \n",
       "896096                     0  147488.880000   02 - PARTICULARES  \n",
       "\n",
       "[896097 rows x 21 columns]>"
      ]
     },
     "execution_count": 2,
     "metadata": {},
     "output_type": "execute_result"
    }
   ],
   "source": [
    "%autosave 30\n",
    "import pandas as pd\n",
    "import warnings\n",
    "warnings.filterwarnings(\"ignore\")\n",
    "path = 'C:/Users/Deepthika/Desktop/Cross Selling Recommendation Project/Cross selling dataset/TestCleaned.csv'\n",
    "test = pd.read_csv(path)\n",
    "test.describe"
   ]
  },
  {
   "cell_type": "code",
   "execution_count": 3,
   "id": "23afbdd0",
   "metadata": {},
   "outputs": [
    {
     "name": "stderr",
     "output_type": "stream",
     "text": [
      "2021-08-15 19:27:32,347 - INFO     - NumExpr defaulting to 8 threads.\n"
     ]
    },
    {
     "data": {
      "text/html": [
       "\n",
       "        <iframe\n",
       "            width=\"100%\"\n",
       "            height=\"475\"\n",
       "            src=\"http://LAPTOP-AHMPP1EE:40000/dtale/iframe/1\"\n",
       "            frameborder=\"0\"\n",
       "            allowfullscreen\n",
       "        ></iframe>\n",
       "        "
      ],
      "text/plain": [
       "<IPython.lib.display.IFrame at 0x1301fd93040>"
      ]
     },
     "metadata": {},
     "output_type": "display_data"
    },
    {
     "data": {
      "text/plain": []
     },
     "execution_count": 3,
     "metadata": {},
     "output_type": "execute_result"
    }
   ],
   "source": [
    "#EDA for test cleaned dataset\n",
    "import dtale\n",
    "dtale.show(test)"
   ]
  },
  {
   "cell_type": "code",
   "execution_count": 4,
   "id": "55f2a2cf",
   "metadata": {},
   "outputs": [
    {
     "data": {
      "application/javascript": [
       "IPython.notebook.set_autosave_interval(30000)"
      ]
     },
     "metadata": {},
     "output_type": "display_data"
    },
    {
     "name": "stdout",
     "output_type": "stream",
     "text": [
      "Autosaving every 30 seconds\n"
     ]
    },
    {
     "data": {
      "text/plain": [
       "<bound method NDFrame.describe of           Unnamed: 0  fecha_dato  ncodpers ind_empleado pais_residencia sexo  \\\n",
       "0                  0  2015-01-28   1375586            N              ES    H   \n",
       "1                  1  2015-01-28   1050611            N              ES    V   \n",
       "2                  2  2015-01-28   1050612            N              ES    V   \n",
       "3                  3  2015-01-28   1050613            N              ES    H   \n",
       "4                  4  2015-01-28   1050614            N              ES    V   \n",
       "...              ...         ...       ...          ...             ...  ...   \n",
       "13152838    13647304  2016-05-28   1166765            N              ES    V   \n",
       "13152839    13647305  2016-05-28   1166764            N              ES    V   \n",
       "13152840    13647306  2016-05-28   1166763            N              ES    H   \n",
       "13152841    13647307  2016-05-28   1166789            N              ES    H   \n",
       "13152842    13647308  2016-05-28   1550586            N              ES    H   \n",
       "\n",
       "           age           fecha_alta ind_nuevo  antiguedad  ...  \\\n",
       "0         35.0  2015-01-12 00:00:00       0.0         6.0  ...   \n",
       "1         23.0  2012-08-10 00:00:00       0.0        35.0  ...   \n",
       "2         23.0  2012-08-10 00:00:00       0.0        35.0  ...   \n",
       "3         22.0  2012-08-10 00:00:00       0.0        35.0  ...   \n",
       "4         23.0  2012-08-10 00:00:00       0.0        35.0  ...   \n",
       "...        ...                  ...       ...         ...  ...   \n",
       "13152838  22.0  2013-08-14 00:00:00       0.0        33.0  ...   \n",
       "13152839  23.0  2013-08-14 00:00:00       0.0        33.0  ...   \n",
       "13152840  47.0  2013-08-14 00:00:00       0.0        33.0  ...   \n",
       "13152841  22.0  2013-08-14 00:00:00       0.0        33.0  ...   \n",
       "13152842  37.0  2016-05-13 00:00:00       1.0         0.0  ...   \n",
       "\n",
       "         ind_ecue_fin_ult1  ind_fond_fin_ult1 ind_hip_fin_ult1  \\\n",
       "0                        0                  0                0   \n",
       "1                        0                  0                0   \n",
       "2                        0                  0                0   \n",
       "3                        0                  0                0   \n",
       "4                        0                  0                0   \n",
       "...                    ...                ...              ...   \n",
       "13152838                 0                  0                0   \n",
       "13152839                 0                  0                0   \n",
       "13152840                 0                  0                0   \n",
       "13152841                 0                  0                0   \n",
       "13152842                 0                  0                0   \n",
       "\n",
       "         ind_plan_fin_ult1 ind_reca_fin_ult1 ind_tjcr_fin_ult1  \\\n",
       "0                        0                 0                 0   \n",
       "1                        0                 0                 0   \n",
       "2                        0                 0                 0   \n",
       "3                        0                 0                 0   \n",
       "4                        0                 0                 0   \n",
       "...                    ...               ...               ...   \n",
       "13152838                 0                 0                 0   \n",
       "13152839                 0                 0                 0   \n",
       "13152840                 0                 0                 0   \n",
       "13152841                 0                 0                 0   \n",
       "13152842                 0                 0                 0   \n",
       "\n",
       "         ind_valo_fin_ult1 ind_nomina_ult1  ind_nom_pens_ult1  ind_recibo_ult1  \n",
       "0                        0             0.0                0.0                0  \n",
       "1                        0             0.0                0.0                0  \n",
       "2                        0             0.0                0.0                0  \n",
       "3                        0             0.0                0.0                0  \n",
       "4                        0             0.0                0.0                0  \n",
       "...                    ...             ...                ...              ...  \n",
       "13152838                 0             0.0                0.0                0  \n",
       "13152839                 0             0.0                0.0                0  \n",
       "13152840                 0             0.0                0.0                0  \n",
       "13152841                 0             0.0                0.0                0  \n",
       "13152842                 0             0.0                0.0                0  \n",
       "\n",
       "[13152843 rows x 37 columns]>"
      ]
     },
     "execution_count": 4,
     "metadata": {},
     "output_type": "execute_result"
    }
   ],
   "source": [
    "%autosave 30\n",
    "import pandas as pd\n",
    "import warnings\n",
    "warnings.filterwarnings(\"ignore\")\n",
    "path = 'C:/Users/Deepthika/Desktop/Cross Selling Recommendation Project/Cross selling dataset/TrainCleaned.csv'\n",
    "train = pd.read_csv(path)\n",
    "train.describe"
   ]
  },
  {
   "cell_type": "code",
   "execution_count": 5,
   "id": "956ebe6b",
   "metadata": {
    "scrolled": false
   },
   "outputs": [
    {
     "data": {
      "text/html": [
       "\n",
       "        <iframe\n",
       "            width=\"100%\"\n",
       "            height=\"475\"\n",
       "            src=\"http://LAPTOP-AHMPP1EE:40000/dtale/iframe/2\"\n",
       "            frameborder=\"0\"\n",
       "            allowfullscreen\n",
       "        ></iframe>\n",
       "        "
      ],
      "text/plain": [
       "<IPython.lib.display.IFrame at 0x1301fc8b0a0>"
      ]
     },
     "metadata": {},
     "output_type": "display_data"
    },
    {
     "data": {
      "text/plain": []
     },
     "execution_count": 5,
     "metadata": {},
     "output_type": "execute_result"
    }
   ],
   "source": [
    "#EDA for train cleaned dataset\n",
    "import dtale\n",
    "dtale.show(train)"
   ]
  },
  {
   "cell_type": "markdown",
   "id": "59f4c263",
   "metadata": {},
   "source": [
    "Done!"
   ]
  }
 ],
 "metadata": {
  "kernelspec": {
   "display_name": "Python 3",
   "language": "python",
   "name": "python3"
  },
  "language_info": {
   "codemirror_mode": {
    "name": "ipython",
    "version": 3
   },
   "file_extension": ".py",
   "mimetype": "text/x-python",
   "name": "python",
   "nbconvert_exporter": "python",
   "pygments_lexer": "ipython3",
   "version": "3.8.8"
  }
 },
 "nbformat": 4,
 "nbformat_minor": 5
}
