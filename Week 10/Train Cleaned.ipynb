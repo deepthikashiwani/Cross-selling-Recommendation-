{
 "cells": [
  {
   "cell_type": "code",
   "execution_count": 1,
   "metadata": {
    "colab": {
     "base_uri": "https://localhost:8080/",
     "height": 438
    },
    "id": "gjpKXv0Ny5Xc",
    "outputId": "b21b2774-488f-482b-9cab-59b339a8893e"
   },
   "outputs": [
    {
     "data": {
      "application/javascript": [
       "IPython.notebook.set_autosave_interval(30000)"
      ]
     },
     "metadata": {},
     "output_type": "display_data"
    },
    {
     "name": "stdout",
     "output_type": "stream",
     "text": [
      "Autosaving every 30 seconds\n"
     ]
    },
    {
     "data": {
      "text/plain": [
       "<bound method NDFrame.describe of           fecha_dato  ncodpers ind_empleado pais_residencia sexo  age  \\\n",
       "0         2015-01-28   1375586            N              ES    H   35   \n",
       "1         2015-01-28   1050611            N              ES    V   23   \n",
       "2         2015-01-28   1050612            N              ES    V   23   \n",
       "3         2015-01-28   1050613            N              ES    H   22   \n",
       "4         2015-01-28   1050614            N              ES    V   23   \n",
       "...              ...       ...          ...             ...  ...  ...   \n",
       "13647304  2016-05-28   1166765            N              ES    V   22   \n",
       "13647305  2016-05-28   1166764            N              ES    V   23   \n",
       "13647306  2016-05-28   1166763            N              ES    H   47   \n",
       "13647307  2016-05-28   1166789            N              ES    H   22   \n",
       "13647308  2016-05-28   1550586            N              ES    H   37   \n",
       "\n",
       "          fecha_alta  ind_nuevo antiguedad  indrel  ... ind_hip_fin_ult1  \\\n",
       "0         2015-01-12        0.0          6     1.0  ...                0   \n",
       "1         2012-08-10        0.0         35     1.0  ...                0   \n",
       "2         2012-08-10        0.0         35     1.0  ...                0   \n",
       "3         2012-08-10        0.0         35     1.0  ...                0   \n",
       "4         2012-08-10        0.0         35     1.0  ...                0   \n",
       "...              ...        ...        ...     ...  ...              ...   \n",
       "13647304  2013-08-14        0.0         33     1.0  ...                0   \n",
       "13647305  2013-08-14        0.0         33     1.0  ...                0   \n",
       "13647306  2013-08-14        0.0         33     1.0  ...                0   \n",
       "13647307  2013-08-14        0.0         33     1.0  ...                0   \n",
       "13647308  2016-05-13        1.0          0     1.0  ...                0   \n",
       "\n",
       "         ind_plan_fin_ult1 ind_pres_fin_ult1 ind_reca_fin_ult1  \\\n",
       "0                        0                 0                 0   \n",
       "1                        0                 0                 0   \n",
       "2                        0                 0                 0   \n",
       "3                        0                 0                 0   \n",
       "4                        0                 0                 0   \n",
       "...                    ...               ...               ...   \n",
       "13647304                 0                 0                 0   \n",
       "13647305                 0                 0                 0   \n",
       "13647306                 0                 0                 0   \n",
       "13647307                 0                 0                 0   \n",
       "13647308                 0                 0                 0   \n",
       "\n",
       "         ind_tjcr_fin_ult1 ind_valo_fin_ult1 ind_viv_fin_ult1 ind_nomina_ult1  \\\n",
       "0                        0                 0                0             0.0   \n",
       "1                        0                 0                0             0.0   \n",
       "2                        0                 0                0             0.0   \n",
       "3                        0                 0                0             0.0   \n",
       "4                        0                 0                0             0.0   \n",
       "...                    ...               ...              ...             ...   \n",
       "13647304                 0                 0                0             0.0   \n",
       "13647305                 0                 0                0             0.0   \n",
       "13647306                 0                 0                0             0.0   \n",
       "13647307                 0                 0                0             0.0   \n",
       "13647308                 0                 0                0             0.0   \n",
       "\n",
       "          ind_nom_pens_ult1  ind_recibo_ult1  \n",
       "0                       0.0                0  \n",
       "1                       0.0                0  \n",
       "2                       0.0                0  \n",
       "3                       0.0                0  \n",
       "4                       0.0                0  \n",
       "...                     ...              ...  \n",
       "13647304                0.0                0  \n",
       "13647305                0.0                0  \n",
       "13647306                0.0                0  \n",
       "13647307                0.0                0  \n",
       "13647308                0.0                0  \n",
       "\n",
       "[13647309 rows x 48 columns]>"
      ]
     },
     "execution_count": 1,
     "metadata": {},
     "output_type": "execute_result"
    }
   ],
   "source": [
    "%autosave 30\n",
    "import pandas as pd\n",
    "import warnings\n",
    "warnings.filterwarnings(\"ignore\")\n",
    "path = 'C:/Users/Deepthika/Desktop/Cross Selling Recommendation Project/Cross selling dataset/Train.csv'\n",
    "train = pd.read_csv(path)\n",
    "train.describe"
   ]
  },
  {
   "cell_type": "code",
   "execution_count": 2,
   "metadata": {
    "colab": {
     "base_uri": "https://localhost:8080/"
    },
    "id": "VCyCqyJUZrmL",
    "outputId": "710fb43a-b7fc-420e-aad9-989bde039f84"
   },
   "outputs": [
    {
     "name": "stdout",
     "output_type": "stream",
     "text": [
      "<class 'pandas.core.frame.DataFrame'>\n",
      "RangeIndex: 13647309 entries, 0 to 13647308\n",
      "Data columns (total 48 columns):\n",
      " #   Column                 Dtype  \n",
      "---  ------                 -----  \n",
      " 0   fecha_dato             object \n",
      " 1   ncodpers               int64  \n",
      " 2   ind_empleado           object \n",
      " 3   pais_residencia        object \n",
      " 4   sexo                   object \n",
      " 5   age                    object \n",
      " 6   fecha_alta             object \n",
      " 7   ind_nuevo              float64\n",
      " 8   antiguedad             object \n",
      " 9   indrel                 float64\n",
      " 10  ult_fec_cli_1t         object \n",
      " 11  indrel_1mes            object \n",
      " 12  tiprel_1mes            object \n",
      " 13  indresi                object \n",
      " 14  indext                 object \n",
      " 15  conyuemp               object \n",
      " 16  canal_entrada          object \n",
      " 17  indfall                object \n",
      " 18  tipodom                float64\n",
      " 19  cod_prov               float64\n",
      " 20  nomprov                object \n",
      " 21  ind_actividad_cliente  float64\n",
      " 22  renta                  float64\n",
      " 23  segmento               object \n",
      " 24  ind_ahor_fin_ult1      int64  \n",
      " 25  ind_aval_fin_ult1      int64  \n",
      " 26  ind_cco_fin_ult1       int64  \n",
      " 27  ind_cder_fin_ult1      int64  \n",
      " 28  ind_cno_fin_ult1       int64  \n",
      " 29  ind_ctju_fin_ult1      int64  \n",
      " 30  ind_ctma_fin_ult1      int64  \n",
      " 31  ind_ctop_fin_ult1      int64  \n",
      " 32  ind_ctpp_fin_ult1      int64  \n",
      " 33  ind_deco_fin_ult1      int64  \n",
      " 34  ind_deme_fin_ult1      int64  \n",
      " 35  ind_dela_fin_ult1      int64  \n",
      " 36  ind_ecue_fin_ult1      int64  \n",
      " 37  ind_fond_fin_ult1      int64  \n",
      " 38  ind_hip_fin_ult1       int64  \n",
      " 39  ind_plan_fin_ult1      int64  \n",
      " 40  ind_pres_fin_ult1      int64  \n",
      " 41  ind_reca_fin_ult1      int64  \n",
      " 42  ind_tjcr_fin_ult1      int64  \n",
      " 43  ind_valo_fin_ult1      int64  \n",
      " 44  ind_viv_fin_ult1       int64  \n",
      " 45  ind_nomina_ult1        float64\n",
      " 46  ind_nom_pens_ult1      float64\n",
      " 47  ind_recibo_ult1        int64  \n",
      "dtypes: float64(8), int64(23), object(17)\n",
      "memory usage: 4.9+ GB\n"
     ]
    }
   ],
   "source": [
    "train.info()"
   ]
  },
  {
   "cell_type": "code",
   "execution_count": 3,
   "metadata": {
    "id": "DfF_Eu_cE2I4"
   },
   "outputs": [],
   "source": [
    "import os"
   ]
  },
  {
   "cell_type": "code",
   "execution_count": 4,
   "metadata": {
    "id": "HVWQac5OHdnu"
   },
   "outputs": [],
   "source": [
    "import numpy as np\n",
    "import pandas as pd\n",
    "import matplotlib.pyplot as plt\n",
    "%matplotlib inline\n",
    "import seaborn as sns\n",
    "import datetime\n",
    "from sklearn.impute import SimpleImputer"
   ]
  },
  {
   "cell_type": "code",
   "execution_count": 5,
   "metadata": {
    "colab": {
     "base_uri": "https://localhost:8080/"
    },
    "id": "5jEzDokNHeAR",
    "outputId": "adef4fd3-2e39-4f11-8923-06e1ccbfe05c"
   },
   "outputs": [
    {
     "data": {
      "text/plain": [
       "fecha_dato                      0\n",
       "ncodpers                        0\n",
       "ind_empleado                27734\n",
       "pais_residencia             27734\n",
       "sexo                        27804\n",
       "age                             0\n",
       "fecha_alta                  27734\n",
       "ind_nuevo                   27734\n",
       "antiguedad                      0\n",
       "indrel                      27734\n",
       "ult_fec_cli_1t           13622516\n",
       "indrel_1mes                149781\n",
       "tiprel_1mes                149781\n",
       "indresi                     27734\n",
       "indext                      27734\n",
       "conyuemp                 13645501\n",
       "canal_entrada              186126\n",
       "indfall                     27734\n",
       "tipodom                     27735\n",
       "cod_prov                    93591\n",
       "nomprov                     93591\n",
       "ind_actividad_cliente       27734\n",
       "renta                     2794375\n",
       "segmento                   189368\n",
       "ind_ahor_fin_ult1               0\n",
       "ind_aval_fin_ult1               0\n",
       "ind_cco_fin_ult1                0\n",
       "ind_cder_fin_ult1               0\n",
       "ind_cno_fin_ult1                0\n",
       "ind_ctju_fin_ult1               0\n",
       "ind_ctma_fin_ult1               0\n",
       "ind_ctop_fin_ult1               0\n",
       "ind_ctpp_fin_ult1               0\n",
       "ind_deco_fin_ult1               0\n",
       "ind_deme_fin_ult1               0\n",
       "ind_dela_fin_ult1               0\n",
       "ind_ecue_fin_ult1               0\n",
       "ind_fond_fin_ult1               0\n",
       "ind_hip_fin_ult1                0\n",
       "ind_plan_fin_ult1               0\n",
       "ind_pres_fin_ult1               0\n",
       "ind_reca_fin_ult1               0\n",
       "ind_tjcr_fin_ult1               0\n",
       "ind_valo_fin_ult1               0\n",
       "ind_viv_fin_ult1                0\n",
       "ind_nomina_ult1             16063\n",
       "ind_nom_pens_ult1           16063\n",
       "ind_recibo_ult1                 0\n",
       "dtype: int64"
      ]
     },
     "execution_count": 5,
     "metadata": {},
     "output_type": "execute_result"
    }
   ],
   "source": [
    "train.isnull().sum()"
   ]
  },
  {
   "cell_type": "markdown",
   "metadata": {
    "id": "SFSyzyWMgms2"
   },
   "source": [
    "Changing Datatypes"
   ]
  },
  {
   "cell_type": "code",
   "execution_count": 6,
   "metadata": {
    "id": "qkCR9IuCYjQi"
   },
   "outputs": [],
   "source": [
    "train['age'] = pd.to_numeric(train['age'], errors='coerce')\n",
    "train.antiguedad = pd.to_numeric(train.antiguedad, errors = 'coerce')\n",
    "train.indrel_1mes = pd.to_numeric(train.indrel_1mes, errors = 'coerce')"
   ]
  },
  {
   "cell_type": "code",
   "execution_count": 7,
   "metadata": {
    "id": "KxAGGTMkgP75"
   },
   "outputs": [],
   "source": [
    "train[\"fecha_dato\"] = pd.to_datetime(train[\"fecha_dato\"],format=\"%Y-%m-%d\")\n",
    "train[\"fecha_alta\"] = pd.to_datetime(train[\"fecha_alta\"],format=\"%Y-%m-%d\")"
   ]
  },
  {
   "cell_type": "code",
   "execution_count": 8,
   "metadata": {
    "colab": {
     "base_uri": "https://localhost:8080/",
     "height": 282
    },
    "id": "xdLtbkQYYjYc",
    "outputId": "c8602a45-8f94-43ce-c7a9-be432bfe6935"
   },
   "outputs": [
    {
     "data": {
      "text/plain": [
       "<AxesSubplot:>"
      ]
     },
     "execution_count": 8,
     "metadata": {},
     "output_type": "execute_result"
    },
    {
     "data": {
      "image/png": "[encoded data removed]",
      "text/plain": [
       "<Figure size 432x288 with 1 Axes>"
      ]
     },
     "metadata": {
      "needs_background": "light"
     },
     "output_type": "display_data"
    }
   ],
   "source": [
    "train['age'].plot.box()"
   ]
  },
  {
   "cell_type": "code",
   "execution_count": 9,
   "metadata": {
    "colab": {
     "base_uri": "https://localhost:8080/"
    },
    "id": "RSPBPzWeQ4Iw",
    "outputId": "83500dbd-31f5-4820-d77c-72c7a5a355b5"
   },
   "outputs": [
    {
     "data": {
      "text/plain": [
       "81.0"
      ]
     },
     "execution_count": 9,
     "metadata": {},
     "output_type": "execute_result"
    }
   ],
   "source": [
    "train.age.quantile(0.975)"
   ]
  },
  {
   "cell_type": "code",
   "execution_count": 10,
   "metadata": {
    "colab": {
     "base_uri": "https://localhost:8080/"
    },
    "id": "ds8IZ6KjQ4O3",
    "outputId": "97dbab14-49dd-406f-885c-29c73c0e12ee"
   },
   "outputs": [
    {
     "data": {
      "text/plain": [
       "20.0"
      ]
     },
     "execution_count": 10,
     "metadata": {},
     "output_type": "execute_result"
    }
   ],
   "source": [
    "train.age.quantile(0.025)"
   ]
  },
  {
   "cell_type": "markdown",
   "metadata": {
    "id": "feZ_6gePF4sA"
   },
   "source": [
    "Drop outlier ages(<18 and >81)\n"
   ]
  },
  {
   "cell_type": "code",
   "execution_count": 11,
   "metadata": {
    "id": "PAzrgCzUGO0T"
   },
   "outputs": [],
   "source": [
    "index_names = train[(train['age']  >=81) | (train['age']  <=18)].index\n",
    "\n",
    "train.drop(index_names, inplace = True)"
   ]
  },
  {
   "cell_type": "markdown",
   "metadata": {
    "id": "MuJj0DrEHKnD"
   },
   "source": [
    "Replace NA values for Renta with mean\n"
   ]
  },
  {
   "cell_type": "code",
   "execution_count": 12,
   "metadata": {
    "id": "eeRDDGR0HTiP"
   },
   "outputs": [],
   "source": [
    "imputer = SimpleImputer(missing_values= np.nan,strategy= 'mean')\n",
    "imputer = imputer.fit(train[['renta']])\n",
    "train['renta']= imputer.transform(train[['renta']])"
   ]
  },
  {
   "cell_type": "markdown",
   "metadata": {
    "id": "tIUuH8Mems5i"
   },
   "source": [
    "Replace NA values for ind_actividad_cliente with the median"
   ]
  },
  {
   "cell_type": "code",
   "execution_count": 13,
   "metadata": {
    "id": "Wwb8iwLnmrVk"
   },
   "outputs": [],
   "source": [
    "train.loc[train.ind_actividad_cliente.isnull(),\"ind_actividad_cliente\"] = \\\n",
    "train[\"ind_actividad_cliente\"].median()"
   ]
  },
  {
   "cell_type": "markdown",
   "metadata": {
    "id": "r6GJx1POgRz2"
   },
   "source": [
    "Drop empty columns"
   ]
  },
  {
   "cell_type": "code",
   "execution_count": 14,
   "metadata": {
    "id": "AtvY4xHFJtOc"
   },
   "outputs": [],
   "source": [
    "train = train.drop([\"ult_fec_cli_1t\", \"conyuemp\"], axis=1)"
   ]
  },
  {
   "cell_type": "code",
   "execution_count": 15,
   "metadata": {
    "colab": {
     "base_uri": "https://localhost:8080/"
    },
    "id": "L_VGMaf8bsDz",
    "outputId": "2b1fdf37-2a34-427d-cce9-58db8daa4685"
   },
   "outputs": [
    {
     "data": {
      "text/plain": [
       "array(['MALAGA', 'CIUDAD REAL', 'ZARAGOZA', 'TOLEDO', 'LEON', 'GIPUZKOA',\n",
       "       'CACERES', 'GIRONA', 'ZAMORA', 'BARCELONA', 'SALAMANCA', 'BURGOS',\n",
       "       'HUESCA', 'NAVARRA', 'AVILA', 'SEGOVIA', 'LUGO', 'LERIDA',\n",
       "       'MADRID', 'ALICANTE', 'SORIA', 'SEVILLA', 'CANTABRIA',\n",
       "       'BALEARS, ILLES', 'VALLADOLID', 'PONTEVEDRA', 'VALENCIA', 'TERUEL',\n",
       "       'CORUÑA, A', 'OURENSE', 'JAEN', 'CUENCA', 'BIZKAIA', 'CASTELLON',\n",
       "       'RIOJA, LA', 'ALBACETE', 'BADAJOZ', 'MURCIA', 'CADIZ', nan,\n",
       "       'ALMERIA', 'GUADALAJARA', 'PALENCIA', 'PALMAS, LAS', 'CORDOBA',\n",
       "       'HUELVA', 'GRANADA', 'ASTURIAS', 'SANTA CRUZ DE TENERIFE',\n",
       "       'MELILLA', 'TARRAGONA', 'ALAVA', 'CEUTA'], dtype=object)"
      ]
     },
     "execution_count": 15,
     "metadata": {},
     "output_type": "execute_result"
    }
   ],
   "source": [
    "train.nomprov.unique()"
   ]
  },
  {
   "cell_type": "markdown",
   "metadata": {
    "id": "njWVg0xIdO90"
   },
   "source": [
    "Fix Unicode character\n"
   ]
  },
  {
   "cell_type": "code",
   "execution_count": 16,
   "metadata": {
    "id": "Vtw5L9DycN3N"
   },
   "outputs": [],
   "source": [
    "train.loc[train.nomprov==\"CORU\\xc3\\x91A, A\",\"nomprov\"] = \"CORUNA, A\""
   ]
  },
  {
   "cell_type": "markdown",
   "metadata": {
    "id": "ODzBa_OZfjIs"
   },
   "source": [
    "tipodom doesn't seem to be useful, and the province code is not needed because the name of the province exists in nomprov"
   ]
  },
  {
   "cell_type": "code",
   "execution_count": 17,
   "metadata": {
    "id": "tW5Fxnnyfk7o"
   },
   "outputs": [],
   "source": [
    "train.drop([\"tipodom\",\"cod_prov\"],axis=1,inplace=True)"
   ]
  },
  {
   "cell_type": "markdown",
   "metadata": {
    "id": "Zm24wAnEdaF-"
   },
   "source": [
    "Replace NA values with \"UNKNOWN\""
   ]
  },
  {
   "cell_type": "code",
   "execution_count": 18,
   "metadata": {
    "id": "QyHmgFBwjbkH"
   },
   "outputs": [],
   "source": [
    "train.loc[train.nomprov.isnull(),\"nomprov\"] = \"UNKNOWN\""
   ]
  },
  {
   "cell_type": "code",
   "execution_count": 19,
   "metadata": {
    "id": "1aQkLPTct14X"
   },
   "outputs": [],
   "source": [
    "train.loc[train.fecha_alta.isnull(),\"fecha_alta\"] = \"UNKNOWN\""
   ]
  },
  {
   "cell_type": "code",
   "execution_count": 20,
   "metadata": {
    "id": "pKHqquLTt14X"
   },
   "outputs": [],
   "source": [
    "train.loc[train.indrel.isnull(),\"indrel\"] = \"UNKNOWN\""
   ]
  },
  {
   "cell_type": "code",
   "execution_count": 21,
   "metadata": {
    "id": "sVbYn8Hot14X"
   },
   "outputs": [],
   "source": [
    " train.loc[train.ind_nuevo.isnull(),\"ind_nuevo\"] = \"UNKNOWN\""
   ]
  },
  {
   "cell_type": "markdown",
   "metadata": {
    "id": "QvNChW6Hdk2J"
   },
   "source": [
    "Replace NA values in ind_nomina_ult1 and ind_nom_pens_ult1 and antiguedad with zero"
   ]
  },
  {
   "cell_type": "code",
   "execution_count": 22,
   "metadata": {
    "id": "zHmcJAujmQ4a"
   },
   "outputs": [],
   "source": [
    "train.loc[train.ind_nomina_ult1.isnull(), \"ind_nomina_ult1\"] = 0\n",
    "train.loc[train.ind_nom_pens_ult1.isnull(), \"ind_nom_pens_ult1\"] = 0\n",
    "train.loc[train.antiguedad.isnull(), 'antiguedad'] = 0\n",
    "train.loc[train.antiguedad < 0, 'antiguedad'] = 0"
   ]
  },
  {
   "cell_type": "markdown",
   "metadata": {
    "id": "GZ-HzSJQd9Ao"
   },
   "source": [
    "NA values in the following are replaced with the mode"
   ]
  },
  {
   "cell_type": "code",
   "execution_count": 23,
   "metadata": {
    "id": "p-G5Kk96mxKj",
    "outputId": "3c745b80-a571-4e86-e523-3f841be67c5a"
   },
   "outputs": [
    {
     "data": {
      "text/plain": [
       "N    13116513\n",
       "B        3566\n",
       "F        2523\n",
       "A        2490\n",
       "S          17\n",
       "Name: ind_empleado, dtype: int64"
      ]
     },
     "execution_count": 23,
     "metadata": {},
     "output_type": "execute_result"
    }
   ],
   "source": [
    "train['ind_empleado'].value_counts()"
   ]
  },
  {
   "cell_type": "code",
   "execution_count": 24,
   "metadata": {
    "id": "bC8woB21nN7T"
   },
   "outputs": [],
   "source": [
    "train.loc[train.ind_empleado.isnull(), \"ind_empleado\"] = \"N\""
   ]
  },
  {
   "cell_type": "code",
   "execution_count": 25,
   "metadata": {
    "id": "0AVTPwV8oFLF",
    "outputId": "b1fe7cd6-f6a7-4172-ed90-93a9ae406f22"
   },
   "outputs": [
    {
     "data": {
      "text/plain": [
       "02 - PARTICULARES     7503606\n",
       "03 - UNIVERSITARIO    4935579\n",
       "01 - TOP               530855\n",
       "Name: segmento, dtype: int64"
      ]
     },
     "execution_count": 25,
     "metadata": {},
     "output_type": "execute_result"
    }
   ],
   "source": [
    "train['segmento'].value_counts()"
   ]
  },
  {
   "cell_type": "code",
   "execution_count": 26,
   "metadata": {
    "id": "N5KNnsmroFMP"
   },
   "outputs": [],
   "source": [
    "train.loc[train.segmento.isnull(), \"segmento\"] = \"02 - PARTICULARES\""
   ]
  },
  {
   "cell_type": "code",
   "execution_count": 27,
   "metadata": {
    "id": "RUR8BfPpoFSU",
    "outputId": "edfe5346-dcae-4d49-d5c7-eddf63dc7a19"
   },
   "outputs": [
    {
     "data": {
      "text/plain": [
       "N    13107975\n",
       "S       17134\n",
       "Name: indfall, dtype: int64"
      ]
     },
     "execution_count": 27,
     "metadata": {},
     "output_type": "execute_result"
    }
   ],
   "source": [
    "train['indfall'].value_counts()"
   ]
  },
  {
   "cell_type": "code",
   "execution_count": 28,
   "metadata": {
    "id": "iORjSYgrkDjx"
   },
   "outputs": [],
   "source": [
    "train.loc[train.indfall.isnull(), \"indfall\"] = \"N\""
   ]
  },
  {
   "cell_type": "code",
   "execution_count": 29,
   "metadata": {
    "id": "v0CjunWokRdn",
    "outputId": "263706af-2a68-4257-8be1-fb5ae7968ad0"
   },
   "outputs": [
    {
     "data": {
      "text/plain": [
       "I    7072999\n",
       "A    5925981\n",
       "P       4562\n",
       "R        849\n",
       "N          1\n",
       "Name: tiprel_1mes, dtype: int64"
      ]
     },
     "execution_count": 29,
     "metadata": {},
     "output_type": "execute_result"
    }
   ],
   "source": [
    "train['tiprel_1mes'].value_counts()"
   ]
  },
  {
   "cell_type": "code",
   "execution_count": 30,
   "metadata": {
    "id": "7G4DQ0a3kRii"
   },
   "outputs": [],
   "source": [
    "train.loc[train.tiprel_1mes.isnull(), \"tiprel_1mes\"] = \"A\""
   ]
  },
  {
   "cell_type": "code",
   "execution_count": 31,
   "metadata": {
    "id": "U7yXuqFgkRkx",
    "outputId": "1b75a915-d042-470a-987f-b385c729abd1"
   },
   "outputs": [
    {
     "data": {
      "text/plain": [
       "1.0    12997711\n",
       "3.0        4265\n",
       "2.0        1269\n",
       "4.0         297\n",
       "Name: indrel_1mes, dtype: int64"
      ]
     },
     "execution_count": 31,
     "metadata": {},
     "output_type": "execute_result"
    }
   ],
   "source": [
    "train['indrel_1mes'].value_counts()"
   ]
  },
  {
   "cell_type": "code",
   "execution_count": 32,
   "metadata": {
    "id": "bQHwDqF5kRrJ"
   },
   "outputs": [],
   "source": [
    "train.loc[train.indrel_1mes.isnull(), \"indrel_1mes\"] = \"1.0\"\n"
   ]
  },
  {
   "cell_type": "code",
   "execution_count": 33,
   "metadata": {
    "id": "CFCX5J1nt14Z",
    "outputId": "fa9dfdcb-ff6e-4a27-fc10-a666e47a4ca2"
   },
   "outputs": [
    {
     "data": {
      "text/plain": [
       "23.0    779884\n",
       "22.0    736314\n",
       "24.0    734785\n",
       "21.0    675988\n",
       "25.0    472016\n",
       "         ...  \n",
       "76.0     48997\n",
       "80.0     35773\n",
       "79.0     35065\n",
       "78.0     34358\n",
       "19.0     21597\n",
       "Name: age, Length: 62, dtype: int64"
      ]
     },
     "execution_count": 33,
     "metadata": {},
     "output_type": "execute_result"
    }
   ],
   "source": [
    "train['age'].value_counts()"
   ]
  },
  {
   "cell_type": "code",
   "execution_count": 34,
   "metadata": {
    "id": "GsyPfaLUt14Z"
   },
   "outputs": [],
   "source": [
    "train.loc[train.age.isnull(), \"age\"] = \"23.0\""
   ]
  },
  {
   "cell_type": "markdown",
   "metadata": {
    "id": "YWWrCYCrjElH"
   },
   "source": [
    "Replacing the rest with \"UNKNOWN\""
   ]
  },
  {
   "cell_type": "code",
   "execution_count": 35,
   "metadata": {
    "id": "XDdgYq9boFTW"
   },
   "outputs": [],
   "source": [
    "string_data = train.select_dtypes(include=[\"object\"])\n",
    "missing_columns = [col for col in string_data if string_data[col].isnull().any()]\n",
    "\n",
    "unknown_cols = [col for col in missing_columns if col not in [\"indfall\",\"tiprel_1mes\",\"indrel_1mes\"]]\n",
    "for col in unknown_cols:\n",
    "    train.loc[train[col].isnull(),col] = \"UNKNOWN\""
   ]
  },
  {
   "cell_type": "markdown",
   "metadata": {
    "id": "df9lodWaeHRv"
   },
   "source": [
    "Remove products that nobody buys"
   ]
  },
  {
   "cell_type": "code",
   "execution_count": 36,
   "metadata": {
    "id": "o_tUmfVisYlM",
    "outputId": "fd062a70-757d-4a7c-a715-69ae052b7e9e"
   },
   "outputs": [
    {
     "data": {
      "image/png": "[encoded data removed]",
      "text/plain": [
       "<Figure size 576x288 with 1 Axes>"
      ]
     },
     "metadata": {
      "needs_background": "light"
     },
     "output_type": "display_data"
    }
   ],
   "source": [
    "target_counts = train[train.columns[22:49]].sum(axis=0)\n",
    "plt.figure(figsize=(8,4))\n",
    "sns.barplot(target_counts.index, target_counts.values, alpha=0.8)\n",
    "plt.xlabel('Product Name', fontsize=12)\n",
    "plt.ylabel('Number of Occurrences', fontsize=12)\n",
    "plt.xticks(rotation='vertical')\n",
    "plt.show()"
   ]
  },
  {
   "cell_type": "code",
   "execution_count": 37,
   "metadata": {
    "id": "o_-8anIr5Swo"
   },
   "outputs": [],
   "source": [
    "train = train.drop(['ind_ahor_fin_ult1','ind_aval_fin_ult1','ind_cder_fin_ult1','ind_ctju_fin_ult1','ind_deco_fin_ult1','ind_deme_fin_ult1',\n",
    "                    'ind_pres_fin_ult1','ind_viv_fin_ult1'], axis=1)"
   ]
  },
  {
   "cell_type": "code",
   "execution_count": 38,
   "metadata": {
    "id": "FQO7LfHvt14Z",
    "outputId": "c365a6ea-1f9b-44e2-e7bf-0507ec5b8a13"
   },
   "outputs": [
    {
     "data": {
      "text/plain": [
       "fecha_dato               0\n",
       "ncodpers                 0\n",
       "ind_empleado             0\n",
       "pais_residencia          0\n",
       "sexo                     0\n",
       "age                      0\n",
       "fecha_alta               0\n",
       "ind_nuevo                0\n",
       "antiguedad               0\n",
       "indrel                   0\n",
       "indrel_1mes              0\n",
       "tiprel_1mes              0\n",
       "indresi                  0\n",
       "indext                   0\n",
       "canal_entrada            0\n",
       "indfall                  0\n",
       "nomprov                  0\n",
       "ind_actividad_cliente    0\n",
       "renta                    0\n",
       "segmento                 0\n",
       "ind_cco_fin_ult1         0\n",
       "ind_cno_fin_ult1         0\n",
       "ind_ctma_fin_ult1        0\n",
       "ind_ctop_fin_ult1        0\n",
       "ind_ctpp_fin_ult1        0\n",
       "ind_dela_fin_ult1        0\n",
       "ind_ecue_fin_ult1        0\n",
       "ind_fond_fin_ult1        0\n",
       "ind_hip_fin_ult1         0\n",
       "ind_plan_fin_ult1        0\n",
       "ind_reca_fin_ult1        0\n",
       "ind_tjcr_fin_ult1        0\n",
       "ind_valo_fin_ult1        0\n",
       "ind_nomina_ult1          0\n",
       "ind_nom_pens_ult1        0\n",
       "ind_recibo_ult1          0\n",
       "dtype: int64"
      ]
     },
     "execution_count": 38,
     "metadata": {},
     "output_type": "execute_result"
    }
   ],
   "source": [
    "train.isnull().sum()"
   ]
  },
  {
   "cell_type": "markdown",
   "metadata": {
    "id": "Li3dPDvvt14a"
   },
   "source": [
    "### Done!"
   ]
  },
  {
   "cell_type": "code",
   "execution_count": 41,
   "metadata": {
    "id": "juSqnYwft14a"
   },
   "outputs": [],
   "source": [
    "#exporting pandas dataframe into a csv file \n",
    "train.to_csv(r'C:/Users/Deepthika/Desktop/Cross Selling Recommendation Project/Cross selling dataset/TrainCleaned.csv')"
   ]
  },
  {
   "cell_type": "code",
   "execution_count": null,
   "metadata": {
    "id": "f3W40HgWt14a"
   },
   "outputs": [],
   "source": []
  }
 ],
 "metadata": {
  "colab": {
   "collapsed_sections": [],
   "name": "Data Analyst Project (Data Cleaning Final).ipynb",
   "provenance": []
  },
  "kernelspec": {
   "display_name": "Python 3",
   "language": "python",
   "name": "python3"
  },
  "language_info": {
   "codemirror_mode": {
    "name": "ipython",
    "version": 3
   },
   "file_extension": ".py",
   "mimetype": "text/x-python",
   "name": "python",
   "nbconvert_exporter": "python",
   "pygments_lexer": "ipython3",
   "version": "3.8.8"
  }
 },
 "nbformat": 4,
 "nbformat_minor": 1
}
