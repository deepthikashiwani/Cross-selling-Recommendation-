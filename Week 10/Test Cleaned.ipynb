{
 "cells": [
  {
   "cell_type": "code",
   "execution_count": 1,
   "id": "24e5c0d2",
   "metadata": {
    "id": "24e5c0d2",
    "outputId": "feb9fb28-e985-4093-c21a-2c969fc1c985"
   },
   "outputs": [
    {
     "data": {
      "application/javascript": [
       "IPython.notebook.set_autosave_interval(30000)"
      ]
     },
     "metadata": {},
     "output_type": "display_data"
    },
    {
     "name": "stdout",
     "output_type": "stream",
     "text": [
      "Autosaving every 30 seconds\n"
     ]
    },
    {
     "data": {
      "text/plain": [
       "<bound method NDFrame.describe of         fecha_dato  ncodpers ind_empleado pais_residencia sexo  age  \\\n",
       "0       2016-06-28     15889            F              ES    V   56   \n",
       "1       2016-06-28   1170544            N              ES    H   36   \n",
       "2       2016-06-28   1170545            N              ES    V   22   \n",
       "3       2016-06-28   1170547            N              ES    H   22   \n",
       "4       2016-06-28   1170548            N              ES    H   22   \n",
       "...            ...       ...          ...             ...  ...  ...   \n",
       "929610  2016-06-28    660237            N              ES    V   55   \n",
       "929611  2016-06-28    660238            N              ES    V   30   \n",
       "929612  2016-06-28    660240            N              ES    V   52   \n",
       "929613  2016-06-28    660243            N              ES    V   32   \n",
       "929614  2016-06-28    660248            N              ES    V   92   \n",
       "\n",
       "        fecha_alta  ind_nuevo  antiguedad  indrel  ... indext  conyuemp  \\\n",
       "0       1995-01-16          0         256       1  ...      N         N   \n",
       "1       2013-08-28          0          34       1  ...      N       NaN   \n",
       "2       2013-08-28          0          34       1  ...      N       NaN   \n",
       "3       2013-08-28          0          34       1  ...      N       NaN   \n",
       "4       2013-08-28          0          34       1  ...      N       NaN   \n",
       "...            ...        ...         ...     ...  ...    ...       ...   \n",
       "929610  1999-04-21          0         206       1  ...      N       NaN   \n",
       "929611  2006-11-29          0         115       1  ...      N       NaN   \n",
       "929612  2006-11-29          0         115       1  ...      N       NaN   \n",
       "929613  2006-11-29          0         115       1  ...      N       NaN   \n",
       "929614  2006-11-29          0         115       1  ...      N       NaN   \n",
       "\n",
       "       canal_entrada indfall tipodom cod_prov         nomprov  \\\n",
       "0                KAT       N       1     28.0          MADRID   \n",
       "1                KAT       N       1      3.0        ALICANTE   \n",
       "2                KHE       N       1     15.0       CORUÑA, A   \n",
       "3                KHE       N       1      8.0       BARCELONA   \n",
       "4                KHE       N       1      7.0  BALEARS, ILLES   \n",
       "...              ...     ...     ...      ...             ...   \n",
       "929610           KAT       N       1     28.0          MADRID   \n",
       "929611           KFC       N       1     26.0       RIOJA, LA   \n",
       "929612           KBZ       N       1     33.0        ASTURIAS   \n",
       "929613           KFC       N       1     33.0        ASTURIAS   \n",
       "929614           KAT       N       1     45.0          TOLEDO   \n",
       "\n",
       "       ind_actividad_cliente        renta            segmento  \n",
       "0                          1    326124.90            01 - TOP  \n",
       "1                          0           NA   02 - PARTICULARES  \n",
       "2                          1           NA  03 - UNIVERSITARIO  \n",
       "3                          0    148402.98  03 - UNIVERSITARIO  \n",
       "4                          0    106885.80  03 - UNIVERSITARIO  \n",
       "...                      ...          ...                 ...  \n",
       "929610                     1    128643.57            01 - TOP  \n",
       "929611                     0           NA   02 - PARTICULARES  \n",
       "929612                     1     72765.27   02 - PARTICULARES  \n",
       "929613                     0    147488.88   02 - PARTICULARES  \n",
       "929614                     0           NA   02 - PARTICULARES  \n",
       "\n",
       "[929615 rows x 24 columns]>"
      ]
     },
     "execution_count": 1,
     "metadata": {},
     "output_type": "execute_result"
    }
   ],
   "source": [
    "%autosave 30\n",
    "import pandas as pd\n",
    "import warnings\n",
    "warnings.filterwarnings(\"ignore\")\n",
    "path = 'C:/Users/Deepthika/Desktop/Cross Selling Recommendation Project/Cross selling dataset/Test.csv'\n",
    "test = pd.read_csv(path)\n",
    "test.describe"
   ]
  },
  {
   "cell_type": "code",
   "execution_count": 2,
   "id": "abe3e069",
   "metadata": {
    "id": "abe3e069",
    "outputId": "c0adc495-2a6c-4b3e-8b41-44e2f83fe33b"
   },
   "outputs": [
    {
     "name": "stdout",
     "output_type": "stream",
     "text": [
      "<class 'pandas.core.frame.DataFrame'>\n",
      "RangeIndex: 929615 entries, 0 to 929614\n",
      "Data columns (total 24 columns):\n",
      " #   Column                 Non-Null Count   Dtype  \n",
      "---  ------                 --------------   -----  \n",
      " 0   fecha_dato             929615 non-null  object \n",
      " 1   ncodpers               929615 non-null  int64  \n",
      " 2   ind_empleado           929615 non-null  object \n",
      " 3   pais_residencia        929615 non-null  object \n",
      " 4   sexo                   929610 non-null  object \n",
      " 5   age                    929615 non-null  int64  \n",
      " 6   fecha_alta             929615 non-null  object \n",
      " 7   ind_nuevo              929615 non-null  int64  \n",
      " 8   antiguedad             929615 non-null  int64  \n",
      " 9   indrel                 929615 non-null  int64  \n",
      " 10  ult_fec_cli_1t         1683 non-null    object \n",
      " 11  indrel_1mes            929592 non-null  float64\n",
      " 12  tiprel_1mes            929592 non-null  object \n",
      " 13  indresi                929615 non-null  object \n",
      " 14  indext                 929615 non-null  object \n",
      " 15  conyuemp               104 non-null     object \n",
      " 16  canal_entrada          927534 non-null  object \n",
      " 17  indfall                929615 non-null  object \n",
      " 18  tipodom                929615 non-null  int64  \n",
      " 19  cod_prov               925619 non-null  float64\n",
      " 20  nomprov                925619 non-null  object \n",
      " 21  ind_actividad_cliente  929615 non-null  int64  \n",
      " 22  renta                  929615 non-null  object \n",
      " 23  segmento               927367 non-null  object \n",
      "dtypes: float64(2), int64(7), object(15)\n",
      "memory usage: 170.2+ MB\n"
     ]
    }
   ],
   "source": [
    "test.info()"
   ]
  },
  {
   "cell_type": "code",
   "execution_count": 3,
   "id": "4187ac7d",
   "metadata": {
    "id": "4187ac7d"
   },
   "outputs": [],
   "source": [
    "import numpy as np\n",
    "import pandas as pd\n",
    "import matplotlib.pyplot as plt\n",
    "%matplotlib inline\n",
    "import seaborn as sns\n",
    "import datetime\n",
    "from sklearn.impute import SimpleImputer"
   ]
  },
  {
   "cell_type": "code",
   "execution_count": 4,
   "id": "ea687a54",
   "metadata": {
    "id": "ea687a54",
    "outputId": "a621c85a-594d-47b5-f642-9e5a16c62dad"
   },
   "outputs": [
    {
     "data": {
      "text/plain": [
       "fecha_dato                    0\n",
       "ncodpers                      0\n",
       "ind_empleado                  0\n",
       "pais_residencia               0\n",
       "sexo                          5\n",
       "age                           0\n",
       "fecha_alta                    0\n",
       "ind_nuevo                     0\n",
       "antiguedad                    0\n",
       "indrel                        0\n",
       "ult_fec_cli_1t           927932\n",
       "indrel_1mes                  23\n",
       "tiprel_1mes                  23\n",
       "indresi                       0\n",
       "indext                        0\n",
       "conyuemp                 929511\n",
       "canal_entrada              2081\n",
       "indfall                       0\n",
       "tipodom                       0\n",
       "cod_prov                   3996\n",
       "nomprov                    3996\n",
       "ind_actividad_cliente         0\n",
       "renta                         0\n",
       "segmento                   2248\n",
       "dtype: int64"
      ]
     },
     "execution_count": 4,
     "metadata": {},
     "output_type": "execute_result"
    }
   ],
   "source": [
    "test.isnull().sum()"
   ]
  },
  {
   "cell_type": "code",
   "execution_count": 5,
   "id": "5cec0a20",
   "metadata": {
    "id": "5cec0a20"
   },
   "outputs": [],
   "source": [
    "test['age'] = pd.to_numeric(test['age'], errors='coerce')\n",
    "test.antiguedad = pd.to_numeric(test.antiguedad, errors = 'coerce')\n",
    "test.indrel_1mes = pd.to_numeric(test.indrel_1mes, errors = 'coerce')\n",
    "test.renta = pd.to_numeric(test.renta, errors = 'coerce')"
   ]
  },
  {
   "cell_type": "code",
   "execution_count": 6,
   "id": "97d3b569",
   "metadata": {
    "id": "97d3b569"
   },
   "outputs": [],
   "source": [
    "test[\"fecha_dato\"] = pd.to_datetime(test[\"fecha_dato\"],format=\"%Y-%m-%d\")\n",
    "test[\"fecha_alta\"] = pd.to_datetime(test[\"fecha_alta\"],format=\"%Y-%m-%d\")"
   ]
  },
  {
   "cell_type": "code",
   "execution_count": 7,
   "id": "35a03fc0",
   "metadata": {
    "id": "35a03fc0",
    "outputId": "c88245c5-85bb-42e7-e3b3-7a1b32fe9162"
   },
   "outputs": [
    {
     "data": {
      "text/plain": [
       "<AxesSubplot:>"
      ]
     },
     "execution_count": 7,
     "metadata": {},
     "output_type": "execute_result"
    },
    {
     "data": {
      "image/png": "[encoded data removed]",
      "text/plain": [
       "<Figure size 432x288 with 1 Axes>"
      ]
     },
     "metadata": {
      "needs_background": "light"
     },
     "output_type": "display_data"
    }
   ],
   "source": [
    "test['age'].plot.box()"
   ]
  },
  {
   "cell_type": "code",
   "execution_count": 8,
   "id": "84e449c4",
   "metadata": {
    "id": "84e449c4",
    "outputId": "de9bac65-27a4-4531-c085-70ed7223b7ff"
   },
   "outputs": [
    {
     "data": {
      "text/plain": [
       "81.0"
      ]
     },
     "execution_count": 8,
     "metadata": {},
     "output_type": "execute_result"
    }
   ],
   "source": [
    "test.age.quantile(0.975)"
   ]
  },
  {
   "cell_type": "code",
   "execution_count": 9,
   "id": "30b6526c",
   "metadata": {
    "id": "30b6526c",
    "outputId": "55eeb20b-de14-40f5-98a9-dc712c1fd73e"
   },
   "outputs": [
    {
     "data": {
      "text/plain": [
       "20.0"
      ]
     },
     "execution_count": 9,
     "metadata": {},
     "output_type": "execute_result"
    }
   ],
   "source": [
    "test.age.quantile(0.025)"
   ]
  },
  {
   "cell_type": "code",
   "execution_count": 10,
   "id": "38d6ff00",
   "metadata": {
    "id": "38d6ff00"
   },
   "outputs": [],
   "source": [
    "#Drop outlier ages(<18 and >81)"
   ]
  },
  {
   "cell_type": "code",
   "execution_count": 11,
   "id": "78e6981b",
   "metadata": {
    "id": "78e6981b"
   },
   "outputs": [],
   "source": [
    "index_names = test[(test['age']  >=81) | (test['age']  <=18)].index\n",
    "\n",
    "test.drop(index_names, inplace = True)"
   ]
  },
  {
   "cell_type": "code",
   "execution_count": 12,
   "id": "28df2a0b",
   "metadata": {
    "id": "28df2a0b"
   },
   "outputs": [],
   "source": [
    "#Replace NA values for Renta with mean"
   ]
  },
  {
   "cell_type": "code",
   "execution_count": 13,
   "id": "947f3d8d",
   "metadata": {
    "id": "947f3d8d"
   },
   "outputs": [],
   "source": [
    "imputer = SimpleImputer(missing_values= np.nan,strategy= 'mean')\n",
    "imputer = imputer.fit(test[['renta']])\n",
    "test['renta']= imputer.transform(test[['renta']])"
   ]
  },
  {
   "cell_type": "code",
   "execution_count": 14,
   "id": "c1ec2303",
   "metadata": {
    "id": "c1ec2303"
   },
   "outputs": [],
   "source": [
    "#Replace NA values for ind_actividad_cliente with the median"
   ]
  },
  {
   "cell_type": "code",
   "execution_count": 15,
   "id": "6d439953",
   "metadata": {
    "id": "6d439953"
   },
   "outputs": [],
   "source": [
    "test.loc[test.ind_actividad_cliente.isnull(),\"ind_actividad_cliente\"] = \\\n",
    "test[\"ind_actividad_cliente\"].median()"
   ]
  },
  {
   "cell_type": "code",
   "execution_count": 16,
   "id": "8db6bf12",
   "metadata": {
    "id": "8db6bf12"
   },
   "outputs": [],
   "source": [
    "test = test.drop([\"ult_fec_cli_1t\", \"conyuemp\"], axis=1)"
   ]
  },
  {
   "cell_type": "code",
   "execution_count": 17,
   "id": "dbaf5c4c",
   "metadata": {
    "id": "dbaf5c4c",
    "outputId": "56fcb57e-8964-423d-8d43-7d67d29b3cf7"
   },
   "outputs": [
    {
     "data": {
      "text/plain": [
       "array(['MADRID', 'ALICANTE', 'CORUÑA, A', 'BARCELONA', 'BALEARS, ILLES',\n",
       "       'PALMAS, LAS', 'TOLEDO', 'CORDOBA', 'MURCIA', 'CUENCA', 'MALAGA',\n",
       "       'JAEN', 'CADIZ', 'SEVILLA', 'VALENCIA', 'CASTELLON', 'BADAJOZ',\n",
       "       'OURENSE', 'GIRONA', 'GRANADA', 'CIUDAD REAL', 'CANTABRIA',\n",
       "       'CACERES', 'MELILLA', 'ASTURIAS', 'ZARAGOZA', 'HUESCA', 'TERUEL',\n",
       "       'LUGO', 'BURGOS', 'NAVARRA', 'VALLADOLID', 'SALAMANCA',\n",
       "       'RIOJA, LA', 'LERIDA', 'LEON', 'GIPUZKOA', 'TARRAGONA', 'SORIA',\n",
       "       'ALBACETE', 'SEGOVIA', 'HUELVA', 'PONTEVEDRA', 'ALMERIA', 'AVILA',\n",
       "       'PALENCIA', 'GUADALAJARA', 'ALAVA', 'ZAMORA',\n",
       "       'SANTA CRUZ DE TENERIFE', nan, 'BIZKAIA', 'CEUTA'], dtype=object)"
      ]
     },
     "execution_count": 17,
     "metadata": {},
     "output_type": "execute_result"
    }
   ],
   "source": [
    "test.nomprov.unique()"
   ]
  },
  {
   "cell_type": "code",
   "execution_count": 18,
   "id": "6fdd85f9",
   "metadata": {
    "id": "6fdd85f9"
   },
   "outputs": [],
   "source": [
    "#Fix Unicode character"
   ]
  },
  {
   "cell_type": "code",
   "execution_count": 19,
   "id": "46c19e1e",
   "metadata": {
    "id": "46c19e1e"
   },
   "outputs": [],
   "source": [
    "test.loc[test.nomprov==\"CORU\\xc3\\x91A, A\",\"nomprov\"] = \"CORUNA, A\""
   ]
  },
  {
   "cell_type": "code",
   "execution_count": 20,
   "id": "377b94f1",
   "metadata": {
    "id": "377b94f1"
   },
   "outputs": [],
   "source": [
    "#tipodom doesn't seem to be useful, and the province code is not needed because the name of the province exists in nomprov"
   ]
  },
  {
   "cell_type": "code",
   "execution_count": 21,
   "id": "4ae1664a",
   "metadata": {
    "id": "4ae1664a"
   },
   "outputs": [],
   "source": [
    "test.drop([\"tipodom\",\"cod_prov\"],axis=1,inplace=True)"
   ]
  },
  {
   "cell_type": "code",
   "execution_count": 22,
   "id": "7776bf2b",
   "metadata": {
    "id": "7776bf2b"
   },
   "outputs": [],
   "source": [
    "#Replace NA values with \"UNKNOWN\""
   ]
  },
  {
   "cell_type": "code",
   "execution_count": 23,
   "id": "b075d346",
   "metadata": {
    "id": "b075d346"
   },
   "outputs": [],
   "source": [
    "test.loc[test.nomprov.isnull(),\"nomprov\"] = \"UNKNOWN\""
   ]
  },
  {
   "cell_type": "code",
   "execution_count": 24,
   "id": "3fc2c814",
   "metadata": {
    "id": "3fc2c814"
   },
   "outputs": [],
   "source": [
    "test.loc[test.fecha_alta.isnull(),\"fecha_alta\"] = \"UNKNOWN\""
   ]
  },
  {
   "cell_type": "code",
   "execution_count": 25,
   "id": "be225677",
   "metadata": {
    "id": "be225677"
   },
   "outputs": [],
   "source": [
    "test.loc[test.indrel.isnull(),\"indrel\"] = \"UNKNOWN\""
   ]
  },
  {
   "cell_type": "code",
   "execution_count": 26,
   "id": "847a4ff5",
   "metadata": {
    "id": "847a4ff5"
   },
   "outputs": [],
   "source": [
    " test.loc[test.ind_nuevo.isnull(),\"ind_nuevo\"] = \"UNKNOWN\""
   ]
  },
  {
   "cell_type": "code",
   "execution_count": 27,
   "id": "ec2850dd",
   "metadata": {
    "id": "ec2850dd"
   },
   "outputs": [],
   "source": [
    "#NA values in the following are replaced with the mode"
   ]
  },
  {
   "cell_type": "code",
   "execution_count": 28,
   "id": "79121585",
   "metadata": {
    "id": "79121585",
    "outputId": "85a6d379-230a-4153-9130-1694f3a89cea"
   },
   "outputs": [
    {
     "data": {
      "text/plain": [
       "N    895579\n",
       "B       218\n",
       "F       152\n",
       "A       147\n",
       "S         1\n",
       "Name: ind_empleado, dtype: int64"
      ]
     },
     "execution_count": 28,
     "metadata": {},
     "output_type": "execute_result"
    }
   ],
   "source": [
    "test['ind_empleado'].value_counts()"
   ]
  },
  {
   "cell_type": "code",
   "execution_count": 29,
   "id": "06759efe",
   "metadata": {
    "id": "06759efe"
   },
   "outputs": [],
   "source": [
    "test.loc[test.ind_empleado.isnull(), \"ind_empleado\"] = \"N\""
   ]
  },
  {
   "cell_type": "code",
   "execution_count": 30,
   "id": "58cc4b9b",
   "metadata": {
    "id": "58cc4b9b",
    "outputId": "e847de03-47eb-4db7-8a2e-254a4881a639"
   },
   "outputs": [
    {
     "data": {
      "text/plain": [
       "02 - PARTICULARES     514426\n",
       "03 - UNIVERSITARIO    346028\n",
       "01 - TOP               33870\n",
       "Name: segmento, dtype: int64"
      ]
     },
     "execution_count": 30,
     "metadata": {},
     "output_type": "execute_result"
    }
   ],
   "source": [
    "test['segmento'].value_counts()"
   ]
  },
  {
   "cell_type": "code",
   "execution_count": 31,
   "id": "c6a54623",
   "metadata": {
    "id": "c6a54623"
   },
   "outputs": [],
   "source": [
    "test.loc[test.segmento.isnull(), \"segmento\"] = \"02 - PARTICULARES\""
   ]
  },
  {
   "cell_type": "code",
   "execution_count": 32,
   "id": "170d3dc4",
   "metadata": {
    "id": "170d3dc4",
    "outputId": "ef729de9-875e-4c4d-b4f1-0394b5220079"
   },
   "outputs": [
    {
     "data": {
      "text/plain": [
       "I    519091\n",
       "A    376957\n",
       "P        26\n",
       "Name: tiprel_1mes, dtype: int64"
      ]
     },
     "execution_count": 32,
     "metadata": {},
     "output_type": "execute_result"
    }
   ],
   "source": [
    "test['tiprel_1mes'].value_counts()"
   ]
  },
  {
   "cell_type": "code",
   "execution_count": 33,
   "id": "e918f6ff",
   "metadata": {
    "id": "e918f6ff"
   },
   "outputs": [],
   "source": [
    "test.loc[test.tiprel_1mes.isnull(), \"tiprel_1mes\"] = \"I\""
   ]
  },
  {
   "cell_type": "code",
   "execution_count": 34,
   "id": "139f0ea9",
   "metadata": {
    "id": "139f0ea9",
    "outputId": "fe7b76af-45c9-4310-a7a1-72d76d6c1732"
   },
   "outputs": [
    {
     "data": {
      "text/plain": [
       "1.0    896048\n",
       "3.0        26\n",
       "Name: indrel_1mes, dtype: int64"
      ]
     },
     "execution_count": 34,
     "metadata": {},
     "output_type": "execute_result"
    }
   ],
   "source": [
    "test['indrel_1mes'].value_counts()"
   ]
  },
  {
   "cell_type": "code",
   "execution_count": 35,
   "id": "3ac0c4d0",
   "metadata": {
    "id": "3ac0c4d0"
   },
   "outputs": [],
   "source": [
    "test.loc[test.indrel_1mes.isnull(), \"indrel_1mes\"] = \"1.0\""
   ]
  },
  {
   "cell_type": "code",
   "execution_count": 36,
   "id": "f37ef6be",
   "metadata": {
    "id": "f37ef6be"
   },
   "outputs": [],
   "source": [
    "string_data = test.select_dtypes(include=[\"object\"])\n",
    "missing_columns = [col for col in string_data if string_data[col].isnull().any()]\n",
    "\n",
    "unknown_cols = [col for col in missing_columns if col not in [\"indfall\",\"tiprel_1mes\",\"indrel_1mes\"]]\n",
    "for col in unknown_cols:\n",
    "    test.loc[test[col].isnull(),col] = \"UNKNOWN\""
   ]
  },
  {
   "cell_type": "code",
   "execution_count": 37,
   "id": "43223408",
   "metadata": {
    "id": "43223408",
    "outputId": "26118f1a-ef79-4c75-a03f-927d90a2f6ab"
   },
   "outputs": [
    {
     "data": {
      "text/plain": [
       "fecha_dato               0\n",
       "ncodpers                 0\n",
       "ind_empleado             0\n",
       "pais_residencia          0\n",
       "sexo                     0\n",
       "age                      0\n",
       "fecha_alta               0\n",
       "ind_nuevo                0\n",
       "antiguedad               0\n",
       "indrel                   0\n",
       "indrel_1mes              0\n",
       "tiprel_1mes              0\n",
       "indresi                  0\n",
       "indext                   0\n",
       "canal_entrada            0\n",
       "indfall                  0\n",
       "nomprov                  0\n",
       "ind_actividad_cliente    0\n",
       "renta                    0\n",
       "segmento                 0\n",
       "dtype: int64"
      ]
     },
     "execution_count": 37,
     "metadata": {},
     "output_type": "execute_result"
    }
   ],
   "source": [
    "test.isnull().sum()"
   ]
  },
  {
   "cell_type": "code",
   "execution_count": 38,
   "id": "4922108c",
   "metadata": {
    "id": "4922108c"
   },
   "outputs": [],
   "source": [
    "# Test Data CLeaning Done!"
   ]
  },
  {
   "cell_type": "code",
   "execution_count": 39,
   "id": "5e9b2649",
   "metadata": {
    "id": "5e9b2649"
   },
   "outputs": [],
   "source": [
    "# Export Pandas Dataframe to csv file"
   ]
  },
  {
   "cell_type": "code",
   "execution_count": 40,
   "id": "9d40b2e8",
   "metadata": {
    "id": "9d40b2e8"
   },
   "outputs": [],
   "source": [
    "test.to_csv(r'C:/Users/Deepthika/Desktop/Cross Selling Recommendation Project/Cross selling dataset/TestCleaned.csv')"
   ]
  },
  {
   "cell_type": "code",
   "execution_count": null,
   "id": "66270d14",
   "metadata": {
    "id": "66270d14"
   },
   "outputs": [],
   "source": []
  }
 ],
 "metadata": {
  "colab": {
   "name": "TestCleaned.ipynb",
   "provenance": []
  },
  "kernelspec": {
   "display_name": "Python 3",
   "language": "python",
   "name": "python3"
  },
  "language_info": {
   "codemirror_mode": {
    "name": "ipython",
    "version": 3
   },
   "file_extension": ".py",
   "mimetype": "text/x-python",
   "name": "python",
   "nbconvert_exporter": "python",
   "pygments_lexer": "ipython3",
   "version": "3.8.8"
  }
 },
 "nbformat": 4,
 "nbformat_minor": 5
}
