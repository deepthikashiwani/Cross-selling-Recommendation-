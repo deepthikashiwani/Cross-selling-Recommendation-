{
 "cells": [
  {
   "cell_type": "markdown",
   "id": "d9dfdc20",
   "metadata": {},
   "source": [
    "Automated EDA peroformed on cleaned Train and Test dataset using Pandas Profiling"
   ]
  },
  {
   "cell_type": "code",
   "execution_count": 1,
   "id": "2cd86408",
   "metadata": {},
   "outputs": [
    {
     "name": "stdout",
     "output_type": "stream",
     "text": [
      "Collecting pandas_profiling\n",
      "  Downloading pandas_profiling-3.0.0-py2.py3-none-any.whl (248 kB)\n",
      "Collecting pydantic>=1.8.1\n",
      "  Downloading pydantic-1.8.2-cp38-cp38-win_amd64.whl (2.0 MB)\n",
      "Requirement already satisfied: numpy>=1.16.0 in c:\\users\\deepthika\\anaconda3\\lib\\site-packages (from pandas_profiling) (1.20.1)\n",
      "Requirement already satisfied: seaborn>=0.10.1 in c:\\users\\deepthika\\anaconda3\\lib\\site-packages (from pandas_profiling) (0.11.1)\n",
      "Requirement already satisfied: requests>=2.24.0 in c:\\users\\deepthika\\anaconda3\\lib\\site-packages (from pandas_profiling) (2.25.1)\n",
      "Requirement already satisfied: scipy>=1.4.1 in c:\\users\\deepthika\\anaconda3\\lib\\site-packages (from pandas_profiling) (1.6.2)\n",
      "Requirement already satisfied: jinja2>=2.11.1 in c:\\users\\deepthika\\anaconda3\\lib\\site-packages (from pandas_profiling) (2.11.3)\n",
      "Requirement already satisfied: matplotlib>=3.2.0 in c:\\users\\deepthika\\anaconda3\\lib\\site-packages (from pandas_profiling) (3.3.4)\n",
      "Collecting phik>=0.11.1\n",
      "  Downloading phik-0.12.0-cp38-cp38-win_amd64.whl (659 kB)\n",
      "Requirement already satisfied: pandas!=1.0.0,!=1.0.1,!=1.0.2,!=1.1.0,>=0.25.3 in c:\\users\\deepthika\\anaconda3\\lib\\site-packages (from pandas_profiling) (1.2.4)\n",
      "Requirement already satisfied: PyYAML>=5.0.0 in c:\\users\\deepthika\\anaconda3\\lib\\site-packages (from pandas_profiling) (5.4.1)\n",
      "Collecting visions[type_image_path]==0.7.1\n",
      "  Downloading visions-0.7.1-py3-none-any.whl (102 kB)\n",
      "Requirement already satisfied: missingno>=0.4.2 in c:\\users\\deepthika\\anaconda3\\lib\\site-packages (from pandas_profiling) (0.4.2)\n",
      "Requirement already satisfied: tqdm>=4.48.2 in c:\\users\\deepthika\\anaconda3\\lib\\site-packages (from pandas_profiling) (4.59.0)\n",
      "Collecting htmlmin>=0.1.12\n",
      "  Downloading htmlmin-0.1.12.tar.gz (19 kB)\n",
      "Requirement already satisfied: joblib in c:\\users\\deepthika\\anaconda3\\lib\\site-packages (from pandas_profiling) (1.0.1)\n",
      "Collecting tangled-up-in-unicode==0.1.0\n",
      "  Downloading tangled_up_in_unicode-0.1.0-py3-none-any.whl (3.1 MB)\n",
      "Requirement already satisfied: networkx>=2.4 in c:\\users\\deepthika\\anaconda3\\lib\\site-packages (from visions[type_image_path]==0.7.1->pandas_profiling) (2.5)\n",
      "Requirement already satisfied: bottleneck in c:\\users\\deepthika\\anaconda3\\lib\\site-packages (from visions[type_image_path]==0.7.1->pandas_profiling) (1.3.2)\n",
      "Collecting multimethod==1.4\n",
      "  Downloading multimethod-1.4-py2.py3-none-any.whl (7.3 kB)\n",
      "Requirement already satisfied: attrs>=19.3.0 in c:\\users\\deepthika\\anaconda3\\lib\\site-packages (from visions[type_image_path]==0.7.1->pandas_profiling) (20.3.0)\n",
      "Collecting imagehash\n",
      "  Downloading ImageHash-4.2.1.tar.gz (812 kB)\n",
      "Requirement already satisfied: Pillow in c:\\users\\deepthika\\anaconda3\\lib\\site-packages (from visions[type_image_path]==0.7.1->pandas_profiling) (8.2.0)\n",
      "Requirement already satisfied: MarkupSafe>=0.23 in c:\\users\\deepthika\\anaconda3\\lib\\site-packages (from jinja2>=2.11.1->pandas_profiling) (1.1.1)\n",
      "Requirement already satisfied: python-dateutil>=2.1 in c:\\users\\deepthika\\anaconda3\\lib\\site-packages (from matplotlib>=3.2.0->pandas_profiling) (2.8.1)\n",
      "Requirement already satisfied: kiwisolver>=1.0.1 in c:\\users\\deepthika\\anaconda3\\lib\\site-packages (from matplotlib>=3.2.0->pandas_profiling) (1.3.1)\n",
      "Requirement already satisfied: cycler>=0.10 in c:\\users\\deepthika\\anaconda3\\lib\\site-packages (from matplotlib>=3.2.0->pandas_profiling) (0.10.0)\n",
      "Requirement already satisfied: pyparsing!=2.0.4,!=2.1.2,!=2.1.6,>=2.0.3 in c:\\users\\deepthika\\anaconda3\\lib\\site-packages (from matplotlib>=3.2.0->pandas_profiling) (2.4.7)\n",
      "Requirement already satisfied: six in c:\\users\\deepthika\\anaconda3\\lib\\site-packages (from cycler>=0.10->matplotlib>=3.2.0->pandas_profiling) (1.15.0)\n",
      "Requirement already satisfied: decorator>=4.3.0 in c:\\users\\deepthika\\anaconda3\\lib\\site-packages (from networkx>=2.4->visions[type_image_path]==0.7.1->pandas_profiling) (5.0.6)\n",
      "Requirement already satisfied: pytz>=2017.3 in c:\\users\\deepthika\\anaconda3\\lib\\site-packages (from pandas!=1.0.0,!=1.0.1,!=1.0.2,!=1.1.0,>=0.25.3->pandas_profiling) (2021.1)\n",
      "Requirement already satisfied: typing-extensions>=3.7.4.3 in c:\\users\\deepthika\\anaconda3\\lib\\site-packages (from pydantic>=1.8.1->pandas_profiling) (3.7.4.3)\n",
      "Requirement already satisfied: certifi>=2017.4.17 in c:\\users\\deepthika\\anaconda3\\lib\\site-packages (from requests>=2.24.0->pandas_profiling) (2020.12.5)\n",
      "Requirement already satisfied: idna<3,>=2.5 in c:\\users\\deepthika\\anaconda3\\lib\\site-packages (from requests>=2.24.0->pandas_profiling) (2.10)\n",
      "Requirement already satisfied: chardet<5,>=3.0.2 in c:\\users\\deepthika\\anaconda3\\lib\\site-packages (from requests>=2.24.0->pandas_profiling) (4.0.0)\n",
      "Requirement already satisfied: urllib3<1.27,>=1.21.1 in c:\\users\\deepthika\\anaconda3\\lib\\site-packages (from requests>=2.24.0->pandas_profiling) (1.26.4)\n",
      "Requirement already satisfied: PyWavelets in c:\\users\\deepthika\\anaconda3\\lib\\site-packages (from imagehash->visions[type_image_path]==0.7.1->pandas_profiling) (1.1.1)\n",
      "Building wheels for collected packages: htmlmin, imagehash\n",
      "  Building wheel for htmlmin (setup.py): started\n",
      "  Building wheel for htmlmin (setup.py): finished with status 'done'\n",
      "  Created wheel for htmlmin: filename=htmlmin-0.1.12-py3-none-any.whl size=27085 sha256=0403488362c89f2576029e88f2a7eb9420e3c98e2f85a05893c09220e739cfec\n",
      "  Stored in directory: c:\\users\\deepthika\\appdata\\local\\pip\\cache\\wheels\\23\\14\\6e\\4be5bfeeb027f4939a01764b48edd5996acf574b0913fe5243\n",
      "  Building wheel for imagehash (setup.py): started\n",
      "  Building wheel for imagehash (setup.py): finished with status 'done'\n",
      "  Created wheel for imagehash: filename=ImageHash-4.2.1-py2.py3-none-any.whl size=295198 sha256=d94fee78cab4da005ab0c930e7358839db6e1cda3b106667ed8fdddde54f86ba\n",
      "  Stored in directory: c:\\users\\deepthika\\appdata\\local\\pip\\cache\\wheels\\48\\a1\\7f\\096c1269d6bf78d4768180602579b35a1e8cb1250bb4b40c74\n",
      "Successfully built htmlmin imagehash\n",
      "Installing collected packages: tangled-up-in-unicode, multimethod, visions, imagehash, pydantic, phik, htmlmin, pandas-profiling\n",
      "Successfully installed htmlmin-0.1.12 imagehash-4.2.1 multimethod-1.4 pandas-profiling-3.0.0 phik-0.12.0 pydantic-1.8.2 tangled-up-in-unicode-0.1.0 visions-0.7.1\n",
      "Note: you may need to restart the kernel to use updated packages.\n"
     ]
    }
   ],
   "source": [
    "pip install pandas_profiling"
   ]
  },
  {
   "cell_type": "code",
   "execution_count": 2,
   "id": "51457d82",
   "metadata": {},
   "outputs": [],
   "source": [
    "import pandas as pd\n",
    "import numpy as np\n",
    "from pandas_profiling import ProfileReport"
   ]
  },
  {
   "cell_type": "code",
   "execution_count": 3,
   "id": "0c1cfa32",
   "metadata": {},
   "outputs": [
    {
     "data": {
      "application/javascript": [
       "IPython.notebook.set_autosave_interval(30000)"
      ]
     },
     "metadata": {},
     "output_type": "display_data"
    },
    {
     "name": "stdout",
     "output_type": "stream",
     "text": [
      "Autosaving every 30 seconds\n"
     ]
    },
    {
     "data": {
      "text/plain": [
       "<bound method NDFrame.describe of         Unnamed: 0  fecha_dato  ncodpers ind_empleado pais_residencia sexo  \\\n",
       "0                0  2016-06-28     15889            F              ES    V   \n",
       "1                1  2016-06-28   1170544            N              ES    H   \n",
       "2                2  2016-06-28   1170545            N              ES    V   \n",
       "3                3  2016-06-28   1170547            N              ES    H   \n",
       "4                4  2016-06-28   1170548            N              ES    H   \n",
       "...            ...         ...       ...          ...             ...  ...   \n",
       "896092      929609  2016-06-28    660235            N              ES    H   \n",
       "896093      929610  2016-06-28    660237            N              ES    V   \n",
       "896094      929611  2016-06-28    660238            N              ES    V   \n",
       "896095      929612  2016-06-28    660240            N              ES    V   \n",
       "896096      929613  2016-06-28    660243            N              ES    V   \n",
       "\n",
       "        age           fecha_alta  ind_nuevo  antiguedad  ...  indrel_1mes  \\\n",
       "0        56  1995-01-16 00:00:00          0         256  ...          1.0   \n",
       "1        36  2013-08-28 00:00:00          0          34  ...          1.0   \n",
       "2        22  2013-08-28 00:00:00          0          34  ...          1.0   \n",
       "3        22  2013-08-28 00:00:00          0          34  ...          1.0   \n",
       "4        22  2013-08-28 00:00:00          0          34  ...          1.0   \n",
       "...     ...                  ...        ...         ...  ...          ...   \n",
       "896092   36  2007-01-04 00:00:00          0         113  ...          1.0   \n",
       "896093   55  1999-04-21 00:00:00          0         206  ...          1.0   \n",
       "896094   30  2006-11-29 00:00:00          0         115  ...          1.0   \n",
       "896095   52  2006-11-29 00:00:00          0         115  ...          1.0   \n",
       "896096   32  2006-11-29 00:00:00          0         115  ...          1.0   \n",
       "\n",
       "        tiprel_1mes indresi indext canal_entrada indfall         nomprov  \\\n",
       "0                 A       S      N           KAT       N          MADRID   \n",
       "1                 I       S      N           KAT       N        ALICANTE   \n",
       "2                 A       S      N           KHE       N       CORUÑA, A   \n",
       "3                 I       S      N           KHE       N       BARCELONA   \n",
       "4                 I       S      N           KHE       N  BALEARS, ILLES   \n",
       "...             ...     ...    ...           ...     ...             ...   \n",
       "896092            A       S      N           KAT       N       BARCELONA   \n",
       "896093            A       S      N           KAT       N          MADRID   \n",
       "896094            I       S      N           KFC       N       RIOJA, LA   \n",
       "896095            A       S      N           KBZ       N        ASTURIAS   \n",
       "896096            I       S      N           KFC       N        ASTURIAS   \n",
       "\n",
       "       ind_actividad_cliente          renta            segmento  \n",
       "0                          1  326124.900000            01 - TOP  \n",
       "1                          0  133097.286181   02 - PARTICULARES  \n",
       "2                          1  133097.286181  03 - UNIVERSITARIO  \n",
       "3                          0  148402.980000  03 - UNIVERSITARIO  \n",
       "4                          0  106885.800000  03 - UNIVERSITARIO  \n",
       "...                      ...            ...                 ...  \n",
       "896092                     0  100647.450000   02 - PARTICULARES  \n",
       "896093                     1  128643.570000            01 - TOP  \n",
       "896094                     0  133097.286181   02 - PARTICULARES  \n",
       "896095                     1   72765.270000   02 - PARTICULARES  \n",
       "896096                     0  147488.880000   02 - PARTICULARES  \n",
       "\n",
       "[896097 rows x 21 columns]>"
      ]
     },
     "execution_count": 3,
     "metadata": {},
     "output_type": "execute_result"
    }
   ],
   "source": [
    "%autosave 30\n",
    "import pandas as pd\n",
    "import warnings\n",
    "warnings.filterwarnings(\"ignore\")\n",
    "path = 'C:/Users/Deepthika/Desktop/Cross Selling Recommendation Project/Cross selling dataset/TestCleaned.csv'\n",
    "test = pd.read_csv(path)\n",
    "test.describe"
   ]
  },
  {
   "cell_type": "code",
   "execution_count": 4,
   "id": "939247b2",
   "metadata": {},
   "outputs": [],
   "source": [
    "# To create the simple record\n",
    "profile= ProfileReport(test,title='Test Auto EDA - PP',explorative=True)"
   ]
  },
  {
   "cell_type": "code",
   "execution_count": 5,
   "id": "23b73f20",
   "metadata": {},
   "outputs": [
    {
     "data": {
      "application/vnd.jupyter.widget-view+json": {
       "model_id": "b803884a1c98415fb23001e06b637f97",
       "version_major": 2,
       "version_minor": 0
      },
      "text/plain": [
       "Summarize dataset:   0%|          | 0/34 [00:00<?, ?it/s]"
      ]
     },
     "metadata": {},
     "output_type": "display_data"
    },
    {
     "data": {
      "application/vnd.jupyter.widget-view+json": {
       "model_id": "27b02c8a27314daeb3e1bf5900c5f7f9",
       "version_major": 2,
       "version_minor": 0
      },
      "text/plain": [
       "Generate report structure:   0%|          | 0/1 [00:00<?, ?it/s]"
      ]
     },
     "metadata": {},
     "output_type": "display_data"
    },
    {
     "data": {
      "application/vnd.jupyter.widget-view+json": {
       "model_id": "",
       "version_major": 2,
       "version_minor": 0
      },
      "text/plain": [
       "Render widgets:   0%|          | 0/1 [00:00<?, ?it/s]"
      ]
     },
     "metadata": {},
     "output_type": "display_data"
    },
    {
     "data": {
      "application/vnd.jupyter.widget-view+json": {
       "model_id": "8407012e75054c52b0a5ea3d138fe75a",
       "version_major": 2,
       "version_minor": 0
      },
      "text/plain": [
       "VBox(children=(Tab(children=(Tab(children=(GridBox(children=(VBox(children=(GridspecLayout(children=(HTML(valu…"
      ]
     },
     "metadata": {},
     "output_type": "display_data"
    }
   ],
   "source": [
    "profile.to_widgets()"
   ]
  },
  {
   "cell_type": "code",
   "execution_count": 6,
   "id": "95143583",
   "metadata": {},
   "outputs": [
    {
     "data": {
      "application/vnd.jupyter.widget-view+json": {
       "model_id": "bad2251cd2c34a25afeec5cef9bb7a44",
       "version_major": 2,
       "version_minor": 0
      },
      "text/plain": [
       "Render HTML:   0%|          | 0/1 [00:00<?, ?it/s]"
      ]
     },
     "metadata": {},
     "output_type": "display_data"
    },
    {
     "data": {
      "application/vnd.jupyter.widget-view+json": {
       "model_id": "819ae05768444a4186a466d829654dc8",
       "version_major": 2,
       "version_minor": 0
      },
      "text/plain": [
       "Export report to file:   0%|          | 0/1 [00:00<?, ?it/s]"
      ]
     },
     "metadata": {},
     "output_type": "display_data"
    }
   ],
   "source": [
    "profile.to_file(\"test.html\")"
   ]
  },
  {
   "cell_type": "code",
   "execution_count": 7,
   "id": "d507322c",
   "metadata": {},
   "outputs": [
    {
     "data": {
      "text/plain": [
       "<bound method NDFrame.describe of           Unnamed: 0  fecha_dato  ncodpers ind_empleado pais_residencia sexo  \\\n",
       "0                  0  2015-01-28   1375586            N              ES    H   \n",
       "1                  1  2015-01-28   1050611            N              ES    V   \n",
       "2                  2  2015-01-28   1050612            N              ES    V   \n",
       "3                  3  2015-01-28   1050613            N              ES    H   \n",
       "4                  4  2015-01-28   1050614            N              ES    V   \n",
       "...              ...         ...       ...          ...             ...  ...   \n",
       "13152838    13647304  2016-05-28   1166765            N              ES    V   \n",
       "13152839    13647305  2016-05-28   1166764            N              ES    V   \n",
       "13152840    13647306  2016-05-28   1166763            N              ES    H   \n",
       "13152841    13647307  2016-05-28   1166789            N              ES    H   \n",
       "13152842    13647308  2016-05-28   1550586            N              ES    H   \n",
       "\n",
       "           age           fecha_alta ind_nuevo  antiguedad  ...  \\\n",
       "0         35.0  2015-01-12 00:00:00       0.0         6.0  ...   \n",
       "1         23.0  2012-08-10 00:00:00       0.0        35.0  ...   \n",
       "2         23.0  2012-08-10 00:00:00       0.0        35.0  ...   \n",
       "3         22.0  2012-08-10 00:00:00       0.0        35.0  ...   \n",
       "4         23.0  2012-08-10 00:00:00       0.0        35.0  ...   \n",
       "...        ...                  ...       ...         ...  ...   \n",
       "13152838  22.0  2013-08-14 00:00:00       0.0        33.0  ...   \n",
       "13152839  23.0  2013-08-14 00:00:00       0.0        33.0  ...   \n",
       "13152840  47.0  2013-08-14 00:00:00       0.0        33.0  ...   \n",
       "13152841  22.0  2013-08-14 00:00:00       0.0        33.0  ...   \n",
       "13152842  37.0  2016-05-13 00:00:00       1.0         0.0  ...   \n",
       "\n",
       "         ind_ecue_fin_ult1  ind_fond_fin_ult1 ind_hip_fin_ult1  \\\n",
       "0                        0                  0                0   \n",
       "1                        0                  0                0   \n",
       "2                        0                  0                0   \n",
       "3                        0                  0                0   \n",
       "4                        0                  0                0   \n",
       "...                    ...                ...              ...   \n",
       "13152838                 0                  0                0   \n",
       "13152839                 0                  0                0   \n",
       "13152840                 0                  0                0   \n",
       "13152841                 0                  0                0   \n",
       "13152842                 0                  0                0   \n",
       "\n",
       "         ind_plan_fin_ult1 ind_reca_fin_ult1 ind_tjcr_fin_ult1  \\\n",
       "0                        0                 0                 0   \n",
       "1                        0                 0                 0   \n",
       "2                        0                 0                 0   \n",
       "3                        0                 0                 0   \n",
       "4                        0                 0                 0   \n",
       "...                    ...               ...               ...   \n",
       "13152838                 0                 0                 0   \n",
       "13152839                 0                 0                 0   \n",
       "13152840                 0                 0                 0   \n",
       "13152841                 0                 0                 0   \n",
       "13152842                 0                 0                 0   \n",
       "\n",
       "         ind_valo_fin_ult1 ind_nomina_ult1  ind_nom_pens_ult1  ind_recibo_ult1  \n",
       "0                        0             0.0                0.0                0  \n",
       "1                        0             0.0                0.0                0  \n",
       "2                        0             0.0                0.0                0  \n",
       "3                        0             0.0                0.0                0  \n",
       "4                        0             0.0                0.0                0  \n",
       "...                    ...             ...                ...              ...  \n",
       "13152838                 0             0.0                0.0                0  \n",
       "13152839                 0             0.0                0.0                0  \n",
       "13152840                 0             0.0                0.0                0  \n",
       "13152841                 0             0.0                0.0                0  \n",
       "13152842                 0             0.0                0.0                0  \n",
       "\n",
       "[13152843 rows x 37 columns]>"
      ]
     },
     "execution_count": 7,
     "metadata": {},
     "output_type": "execute_result"
    }
   ],
   "source": [
    "import pandas as pd\n",
    "import warnings\n",
    "warnings.filterwarnings(\"ignore\")\n",
    "path = 'C:/Users/Deepthika/Desktop/Cross Selling Recommendation Project/Cross selling dataset/TrainCleaned.csv'\n",
    "train = pd.read_csv(path)\n",
    "train.describe"
   ]
  },
  {
   "cell_type": "code",
   "execution_count": 8,
   "id": "2d53bdcd",
   "metadata": {},
   "outputs": [],
   "source": [
    "# To create the simple record\n",
    "profile= ProfileReport(test,title='Train Auto EDA - PP',explorative=True)"
   ]
  },
  {
   "cell_type": "code",
   "execution_count": 9,
   "id": "8a0b62d9",
   "metadata": {},
   "outputs": [
    {
     "data": {
      "application/vnd.jupyter.widget-view+json": {
       "model_id": "a7f4d5bd94724cff9d96185af33b89e2",
       "version_major": 2,
       "version_minor": 0
      },
      "text/plain": [
       "Summarize dataset:   0%|          | 0/34 [00:00<?, ?it/s]"
      ]
     },
     "metadata": {},
     "output_type": "display_data"
    },
    {
     "data": {
      "application/vnd.jupyter.widget-view+json": {
       "model_id": "b0509803b1864294bd03a4faea3b0192",
       "version_major": 2,
       "version_minor": 0
      },
      "text/plain": [
       "Generate report structure:   0%|          | 0/1 [00:00<?, ?it/s]"
      ]
     },
     "metadata": {},
     "output_type": "display_data"
    },
    {
     "data": {
      "application/vnd.jupyter.widget-view+json": {
       "model_id": "",
       "version_major": 2,
       "version_minor": 0
      },
      "text/plain": [
       "Render widgets:   0%|          | 0/1 [00:00<?, ?it/s]"
      ]
     },
     "metadata": {},
     "output_type": "display_data"
    },
    {
     "data": {
      "application/vnd.jupyter.widget-view+json": {
       "model_id": "1aed2075632d4e589147959989097e28",
       "version_major": 2,
       "version_minor": 0
      },
      "text/plain": [
       "VBox(children=(Tab(children=(Tab(children=(GridBox(children=(VBox(children=(GridspecLayout(children=(HTML(valu…"
      ]
     },
     "metadata": {},
     "output_type": "display_data"
    }
   ],
   "source": [
    "profile.to_widgets()"
   ]
  },
  {
   "cell_type": "code",
   "execution_count": 10,
   "id": "c1fbac81",
   "metadata": {},
   "outputs": [
    {
     "data": {
      "application/vnd.jupyter.widget-view+json": {
       "model_id": "a15e4306be67471a99fbe7c7893fe0d6",
       "version_major": 2,
       "version_minor": 0
      },
      "text/plain": [
       "Render HTML:   0%|          | 0/1 [00:00<?, ?it/s]"
      ]
     },
     "metadata": {},
     "output_type": "display_data"
    },
    {
     "data": {
      "application/vnd.jupyter.widget-view+json": {
       "model_id": "1833eb5c9ce7422abccfb6cbd778f9ee",
       "version_major": 2,
       "version_minor": 0
      },
      "text/plain": [
       "Export report to file:   0%|          | 0/1 [00:00<?, ?it/s]"
      ]
     },
     "metadata": {},
     "output_type": "display_data"
    }
   ],
   "source": [
    "profile.to_file(\"train.html\")"
   ]
  },
  {
   "cell_type": "markdown",
   "id": "f47c638a",
   "metadata": {},
   "source": [
    "Done!"
   ]
  }
 ],
 "metadata": {
  "kernelspec": {
   "display_name": "Python 3",
   "language": "python",
   "name": "python3"
  },
  "language_info": {
   "codemirror_mode": {
    "name": "ipython",
    "version": 3
   },
   "file_extension": ".py",
   "mimetype": "text/x-python",
   "name": "python",
   "nbconvert_exporter": "python",
   "pygments_lexer": "ipython3",
   "version": "3.8.8"
  }
 },
 "nbformat": 4,
 "nbformat_minor": 5
}
